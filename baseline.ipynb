{
 "cells": [
  {
   "cell_type": "code",
   "execution_count": 1,
   "id": "6d793a75-6498-4810-ac6a-c366272e1a96",
   "metadata": {},
   "outputs": [],
   "source": [
    "import pandas as pd\n",
    "import numpy as np\n",
    "from sklearn.ensemble import RandomForestClassifier\n",
    "from sklearn.preprocessing import OneHotEncoder, OrdinalEncoder\n",
    "from sklearn.preprocessing import RobustScaler, StandardScaler\n",
    "import seaborn as sns"
   ]
  },
  {
   "cell_type": "code",
   "execution_count": 4,
   "id": "7b114dc4-28e9-4468-be43-a85ab1005ed2",
   "metadata": {
    "collapsed": true,
    "jupyter": {
     "outputs_hidden": true
    },
    "tags": []
   },
   "outputs": [
    {
     "name": "stdout",
     "output_type": "stream",
     "text": [
      "Downloading click-prediction-2.zip to C:\\Users\\Despacito\\Desktop\\misis kaggle\n",
      "\n"
     ]
    },
    {
     "name": "stderr",
     "output_type": "stream",
     "text": [
      "\n",
      "  0%|          | 0.00/30.8M [00:00<?, ?B/s]\n",
      "  3%|3         | 1.00M/30.8M [00:00<00:09, 3.25MB/s]\n",
      "  6%|6         | 2.00M/30.8M [00:00<00:08, 3.37MB/s]\n",
      " 10%|9         | 3.00M/30.8M [00:00<00:08, 3.43MB/s]\n",
      " 13%|#2        | 4.00M/30.8M [00:01<00:08, 3.46MB/s]\n",
      " 16%|#6        | 5.00M/30.8M [00:01<00:07, 3.48MB/s]\n",
      " 19%|#9        | 6.00M/30.8M [00:01<00:07, 3.49MB/s]\n",
      " 23%|##2       | 7.00M/30.8M [00:02<00:07, 3.50MB/s]\n",
      " 26%|##5       | 8.00M/30.8M [00:02<00:06, 3.51MB/s]\n",
      " 29%|##9       | 9.00M/30.8M [00:02<00:06, 3.50MB/s]\n",
      " 32%|###2      | 10.0M/30.8M [00:03<00:06, 3.51MB/s]\n",
      " 36%|###5      | 11.0M/30.8M [00:03<00:05, 3.51MB/s]\n",
      " 39%|###8      | 12.0M/30.8M [00:03<00:05, 3.51MB/s]\n",
      " 42%|####2     | 13.0M/30.8M [00:03<00:05, 3.52MB/s]\n",
      " 45%|####5     | 14.0M/30.8M [00:04<00:05, 3.16MB/s]\n",
      " 49%|####8     | 15.0M/30.8M [00:04<00:05, 3.26MB/s]\n",
      " 52%|#####1    | 16.0M/30.8M [00:04<00:04, 3.33MB/s]\n",
      " 55%|#####5    | 17.0M/30.8M [00:05<00:04, 3.38MB/s]\n",
      " 58%|#####8    | 18.0M/30.8M [00:05<00:03, 3.42MB/s]\n",
      " 62%|######1   | 19.0M/30.8M [00:05<00:03, 3.44MB/s]\n",
      " 65%|######4   | 20.0M/30.8M [00:06<00:03, 3.46MB/s]\n",
      " 68%|######8   | 21.0M/30.8M [00:06<00:02, 3.48MB/s]\n",
      " 71%|#######1  | 22.0M/30.8M [00:06<00:02, 3.48MB/s]\n",
      " 75%|#######4  | 23.0M/30.8M [00:07<00:02, 3.50MB/s]\n",
      " 78%|#######7  | 24.0M/30.8M [00:07<00:02, 3.50MB/s]\n",
      " 81%|########1 | 25.0M/30.8M [00:07<00:01, 3.49MB/s]\n",
      " 84%|########4 | 26.0M/30.8M [00:07<00:01, 3.49MB/s]\n",
      " 88%|########7 | 27.0M/30.8M [00:08<00:01, 3.50MB/s]\n",
      " 91%|######### | 28.0M/30.8M [00:08<00:00, 3.50MB/s]\n",
      " 94%|#########4| 29.0M/30.8M [00:08<00:00, 3.50MB/s]\n",
      " 97%|#########7| 30.0M/30.8M [00:09<00:00, 3.51MB/s]\n",
      "100%|##########| 30.8M/30.8M [00:09<00:00, 3.52MB/s]\n",
      "100%|##########| 30.8M/30.8M [00:09<00:00, 3.46MB/s]\n"
     ]
    }
   ],
   "source": [
    "!kaggle competitions download -c click-prediction-2"
   ]
  },
  {
   "cell_type": "code",
   "execution_count": 6,
   "id": "cb30e522-ada5-4881-a055-22bfff229a47",
   "metadata": {},
   "outputs": [
    {
     "data": {
      "text/plain": [
       "0    98865\n",
       "1      135\n",
       "Name: click, dtype: int64"
      ]
     },
     "execution_count": 6,
     "metadata": {},
     "output_type": "execute_result"
    }
   ],
   "source": [
    "pd.read_csv(\"out ilya special.csv\").click.value_counts()"
   ]
  },
  {
   "cell_type": "code",
   "execution_count": 4,
   "id": "80816121-5280-48dd-82dc-ed3c5f0c6f0f",
   "metadata": {},
   "outputs": [],
   "source": [
    "train = pd.read_csv(\"./click-prediction-2/train.csv\")\n",
    "test = pd.read_csv(\"./click-prediction-2/test.csv\")"
   ]
  },
  {
   "cell_type": "code",
   "execution_count": 5,
   "id": "d9c8549a-35ba-4159-be6f-2efb99e0c8f3",
   "metadata": {},
   "outputs": [],
   "source": [
    "X_train, y_train = train.drop([\"click\"], axis=1), train[\"click\"]\n",
    "X_test = test"
   ]
  },
  {
   "cell_type": "code",
   "execution_count": 623,
   "id": "4dcefaaa-8806-4cad-8853-af3fbf64d811",
   "metadata": {},
   "outputs": [],
   "source": [
    "X_train, X_test, y_train, y_test = train_test_split(train, train[\"click\"], test_size=.25, shuffle=True, random_state=1)"
   ]
  },
  {
   "cell_type": "code",
   "execution_count": 56,
   "id": "805a0e52-aee5-4e96-a27b-62fd38851b79",
   "metadata": {},
   "outputs": [],
   "source": [
    "X_train = X_train.reset_index(drop=True)\n",
    "X_test = X_test.reset_index(drop=True)"
   ]
  },
  {
   "cell_type": "code",
   "execution_count": 16,
   "id": "ef53c807-d047-42cb-8094-23228cbce773",
   "metadata": {
    "collapsed": true,
    "jupyter": {
     "outputs_hidden": true
    },
    "tags": []
   },
   "outputs": [
    {
     "name": "stdout",
     "output_type": "stream",
     "text": [
      "<class 'pandas.core.frame.DataFrame'>\n",
      "RangeIndex: 201000 entries, 0 to 200999\n",
      "Data columns (total 40 columns):\n",
      " #   Column                Non-Null Count   Dtype  \n",
      "---  ------                --------------   -----  \n",
      " 0   row_number            201000 non-null  int64  \n",
      " 1   ssp_price             201000 non-null  float64\n",
      " 2   show_ts               201000 non-null  int64  \n",
      " 3   show_reason           201000 non-null  int64  \n",
      " 4   billable              201000 non-null  int64  \n",
      " 5   stat_id               201000 non-null  int64  \n",
      " 6   session_id            195640 non-null  object \n",
      " 7   plan                  201000 non-null  int64  \n",
      " 8   height                201000 non-null  int64  \n",
      " 9   thematics             201000 non-null  object \n",
      " 10  instl                 201000 non-null  int64  \n",
      " 11  dmp_commission        201000 non-null  object \n",
      " 12  ssp_name              201000 non-null  object \n",
      " 13  sub_plan              184794 non-null  float64\n",
      " 14  width                 201000 non-null  int64  \n",
      " 15  tagid                 201000 non-null  int64  \n",
      " 16  bid_id                201000 non-null  object \n",
      " 17  creative_id           201000 non-null  int64  \n",
      " 18  creative_template_id  201000 non-null  int64  \n",
      " 19  bidid                 201000 non-null  object \n",
      " 20  request_id            0 non-null       float64\n",
      " 21  ssp_id                201000 non-null  int64  \n",
      " 22  ssp_bid               201000 non-null  int64  \n",
      " 23  sub_quantity          184794 non-null  float64\n",
      " 24  request_ts            201000 non-null  int64  \n",
      " 25  ssp_site_id           201000 non-null  int64  \n",
      " 26  account_id            201000 non-null  int64  \n",
      " 27  sync_session_status   201000 non-null  object \n",
      " 28  campaign_id           201000 non-null  int64  \n",
      " 29  sales_category_id     201000 non-null  int64  \n",
      " 30  bid_ts                201000 non-null  int64  \n",
      " 31  flight_id             201000 non-null  int64  \n",
      " 32  bid_type              201000 non-null  int64  \n",
      " 33  quantity              201000 non-null  int64  \n",
      " 34  sub_flight_id         184794 non-null  float64\n",
      " 35  creative2flight_id    201000 non-null  int64  \n",
      " 36  bid                   201000 non-null  int64  \n",
      " 37  adblock               201000 non-null  int64  \n",
      " 38  device_type           201000 non-null  int64  \n",
      " 39  click                 201000 non-null  int64  \n",
      "dtypes: float64(5), int64(28), object(7)\n",
      "memory usage: 61.3+ MB\n"
     ]
    }
   ],
   "source": [
    "train.info()"
   ]
  },
  {
   "cell_type": "code",
   "execution_count": 57,
   "id": "486f12fa-fbca-418f-9f4f-143a2804cad2",
   "metadata": {
    "tags": []
   },
   "outputs": [],
   "source": [
    "o_session_id = OrdinalEncoder(handle_unknown=\"use_encoded_value\", unknown_value=-10).fit(np.array(X_train.session_id.fillna(\"-1\")).reshape(-1, 1))\n",
    "new_session_id = o_session_id.transform(np.array(X_train.session_id.fillna(\"-1\")).reshape(-1, 1))\n",
    "\n",
    "o_bidid = OrdinalEncoder(handle_unknown=\"use_encoded_value\", unknown_value=-10).fit(np.array(X_train.bidid).reshape(-1, 1))\n",
    "new_bidid = o_bidid.transform(np.array(X_train.bidid).reshape(-1, 1))\n",
    "\n",
    "o_bid_id = OrdinalEncoder(handle_unknown=\"use_encoded_value\", unknown_value=-10).fit(np.array(X_train.bid_id).reshape(-1, 1))\n",
    "new_bid_id = o_bid_id.transform(np.array(X_train.bid_id).reshape(-1, 1))\n",
    "\n",
    "o_sync_session_status = OrdinalEncoder(handle_unknown=\"use_encoded_value\", unknown_value=-10).fit(np.array(X_train[\"sync_session_status\"]).reshape(-1, 1))\n",
    "new_sync_session_status = o_sync_session_status.transform(np.array(X_train.sync_session_status).reshape(-1, 1))\n",
    "\n",
    "o_dmp_commission = OrdinalEncoder(handle_unknown=\"use_encoded_value\", unknown_value=-10).fit(np.array(X_train[\"dmp_commission\"].fillna(\"-1\")).reshape(-1, 1))\n",
    "dmp_commission = o_dmp_commission.transform(np.array(X_train[\"dmp_commission\"].fillna(\"-1\")).reshape(-1, 1))"
   ]
  },
  {
   "cell_type": "code",
   "execution_count": 58,
   "id": "9af3e172-cb03-40b7-80d5-c6753f9a716e",
   "metadata": {},
   "outputs": [],
   "source": [
    "new_session_id_test = o_session_id.transform(np.array(X_test.session_id.fillna(\"-1\")).reshape(-1, 1))\n",
    "new_bidid_test = o_bidid.transform(np.array(X_test.bidid).reshape(-1, 1))\n",
    "new_bid_id_test = o_bid_id.transform(np.array(X_test.bid_id).reshape(-1, 1))\n",
    "new_sync_session_status_test = o_sync_session_status.transform(np.array(X_test.sync_session_status).reshape(-1, 1))\n",
    "dmp_commission_test = o_dmp_commission.transform(np.array(X_test[\"dmp_commission\"].fillna(\"-1\")).reshape(-1, 1))"
   ]
  },
  {
   "cell_type": "code",
   "execution_count": 59,
   "id": "85407186-a681-49e6-80cd-f3accb35a04e",
   "metadata": {},
   "outputs": [],
   "source": [
    "arr = []\n",
    "for x in X_train.columns:\n",
    "    if \"_id\" in x and str(train[x].dtype) != \"int64\":\n",
    "        arr.append(x)\n",
    "        \n",
    "arr = []\n",
    "for x in X_test.columns:\n",
    "    if \"_id\" in x and str(train[x].dtype) != \"int64\":\n",
    "        arr.append(x)"
   ]
  },
  {
   "cell_type": "code",
   "execution_count": 60,
   "id": "650be654-d3bb-45cc-b1e2-1280c239ee72",
   "metadata": {},
   "outputs": [],
   "source": [
    "def clear(x):\n",
    "    if x != \"[]\":\n",
    "        x = [int(x) for x in x[1:-1].split(\", \")]\n",
    "        return x\n",
    "    else:\n",
    "        return [0]"
   ]
  },
  {
   "cell_type": "code",
   "execution_count": 61,
   "id": "3790086a-78c7-43da-ab22-46adbef56277",
   "metadata": {
    "tags": []
   },
   "outputs": [],
   "source": [
    "thematics_train = X_train[\"thematics\"].apply(clear)\n",
    "thematics_test = X_test[\"thematics\"].apply(clear)"
   ]
  },
  {
   "cell_type": "code",
   "execution_count": 62,
   "id": "a04e5e50-1d9c-4de3-a42f-74248dc83157",
   "metadata": {},
   "outputs": [],
   "source": [
    "thematics_dummies_train = pd.get_dummies(thematics_train.apply(pd.Series).stack()).groupby(level=0).sum()\n",
    "thematics_dummies_test = pd.get_dummies(thematics_test.apply(pd.Series).stack()).groupby(level=0).sum()"
   ]
  },
  {
   "cell_type": "code",
   "execution_count": 63,
   "id": "edd1102b-909b-482d-900b-d27511dc5dc9",
   "metadata": {},
   "outputs": [],
   "source": [
    "thematics_dummies_train.columns = thematics_dummies_train.columns.astype(np.int)\n",
    "thematics_dummies_test.columns = thematics_dummies_test.columns.astype(np.int)"
   ]
  },
  {
   "cell_type": "code",
   "execution_count": 64,
   "id": "106494f9-e8b6-4a85-b7b3-f7d29946b634",
   "metadata": {
    "tags": []
   },
   "outputs": [],
   "source": [
    "from sklearn.decomposition import PCA, TruncatedSVD\n",
    "from sklearn.manifold import TSNE\n",
    "\n",
    "pca = TruncatedSVD(n_components=7, random_state=1).fit(thematics_dummies_train)\n",
    "thematics_dummies_svd_train = pca.transform(thematics_dummies_train)"
   ]
  },
  {
   "cell_type": "code",
   "execution_count": 13,
   "id": "5186d93a-500b-4f03-b629-1aa240c1d2fc",
   "metadata": {},
   "outputs": [
    {
     "data": {
      "text/plain": [
       "set()"
      ]
     },
     "execution_count": 13,
     "metadata": {},
     "output_type": "execute_result"
    }
   ],
   "source": [
    "set(thematics_dummies_train.columns) - set(thematics_dummies_test.columns)"
   ]
  },
  {
   "cell_type": "code",
   "execution_count": 633,
   "id": "3b19e570-b1d5-4380-8780-74ea3c156d79",
   "metadata": {},
   "outputs": [],
   "source": [
    "thematics_dummies_test[61] = 0"
   ]
  },
  {
   "cell_type": "code",
   "execution_count": 65,
   "id": "74250c7d-9cb5-4dd4-a1a2-b88e390007e4",
   "metadata": {},
   "outputs": [],
   "source": [
    "thematics_dummies_svd_test = pca.transform(thematics_dummies_test)"
   ]
  },
  {
   "cell_type": "code",
   "execution_count": 66,
   "id": "f7660ae1-5eca-470a-b03f-588a9013b81f",
   "metadata": {},
   "outputs": [],
   "source": [
    "i1 = 7\n",
    "X = X_train.drop(arr + [\"dmp_commission\"] + [\"ssp_name\"] + [\"bidid\"] + [\"sync_session_status\"] + [\"thematics\"] + [\"ssp_id\"] + [\"row_number\"], axis=1)\n",
    "\n",
    "X_new = pd.concat([X, pd.DataFrame(thematics_dummies_svd_train, columns=list(range(i1))), pd.DataFrame(dmp_commission.flatten(), columns=[\"dmp_commission\"]),\n",
    "                   pd.DataFrame(new_sync_session_status.flatten(), columns=[\"sync_session_status\"]), \n",
    "                   pd.DataFrame(new_session_id.flatten(), columns=[\"session_id\"]), \n",
    "                   pd.DataFrame(new_bidid.flatten(), columns=[\"bidid\"])], axis=1)\n",
    "X_new['sub_plan'] = X_new['sub_plan'].fillna(X_new['sub_plan'].mean())\n",
    "X_new['sub_quantity'] = X_new['sub_quantity'].fillna(X_new['sub_quantity'].mean())"
   ]
  },
  {
   "cell_type": "code",
   "execution_count": 67,
   "id": "e8a4035d-9525-4ae3-afe3-663ac9815370",
   "metadata": {},
   "outputs": [],
   "source": [
    "X = X_test.drop(arr + [\"dmp_commission\"] + [\"ssp_name\"] + [\"bidid\"] + [\"sync_session_status\"] + [\"thematics\"] + [\"ssp_id\"] + [\"row_number\"], axis=1)\n",
    "\n",
    "X_new_test = pd.concat([X, pd.DataFrame(thematics_dummies_svd_test, columns=list(range(i1))), pd.DataFrame(dmp_commission_test.flatten(), columns=[\"dmp_commission\"]), \n",
    "                   pd.DataFrame(new_sync_session_status_test.flatten(), columns=[\"sync_session_status\"]), \n",
    "                   pd.DataFrame(new_session_id_test.flatten(), columns=[\"session_id\"]), \n",
    "                   pd.DataFrame(new_bidid_test.flatten(), columns=[\"bidid\"])], axis=1)\n",
    "X_new_test['sub_plan'] = X_new_test['sub_plan'].fillna(X_new_test['sub_plan'].mean())\n",
    "X_new_test['sub_quantity'] = X_new_test['sub_quantity'].fillna(X_new_test['sub_quantity'].mean())"
   ]
  },
  {
   "cell_type": "code",
   "execution_count": 17,
   "id": "181ee918-ee27-44e8-9ada-e20bde32d699",
   "metadata": {},
   "outputs": [],
   "source": [
    "X_new.to_csv(\"X_train_clean.csv\", index=False)\n",
    "X_new_test.to_csv(\"X_train_clean_test.csv\", index=False)"
   ]
  },
  {
   "cell_type": "code",
   "execution_count": 3,
   "id": "31ad3433-814f-443b-ac71-b390faaf1f61",
   "metadata": {},
   "outputs": [],
   "source": [
    "X_new = pd.read_csv(\"X_train_clean.csv\")\n",
    "X_new_test = pd.read_csv(\"X_train_clean_test.csv\")"
   ]
  },
  {
   "cell_type": "code",
   "execution_count": 709,
   "id": "47cbe8a8-5c70-4b54-bc40-eb555ad17abd",
   "metadata": {},
   "outputs": [
    {
     "data": {
      "text/plain": [
       "61"
      ]
     },
     "execution_count": 709,
     "metadata": {},
     "output_type": "execute_result"
    }
   ],
   "source": [
    "sum(np.round(np.sort(rfc.feature_importances_), 4) == 0)"
   ]
  },
  {
   "cell_type": "code",
   "execution_count": 74,
   "id": "9f1fc778-a19e-4214-9cfd-f2f68f049d14",
   "metadata": {},
   "outputs": [
    {
     "data": {
      "text/plain": [
       "39"
      ]
     },
     "execution_count": 74,
     "metadata": {},
     "output_type": "execute_result"
    }
   ],
   "source": [
    "len(X_new.columns[np.argsort(rfc.feature_importances_)])"
   ]
  },
  {
   "cell_type": "code",
   "execution_count": 68,
   "id": "f35bd1dd-a1c1-4b7e-b858-192f5473d72b",
   "metadata": {
    "tags": []
   },
   "outputs": [],
   "source": [
    "rfc = RandomForestClassifier(n_estimators=500, n_jobs=-1, oob_score=True, random_state=1).fit(X_new, y_train)"
   ]
  },
  {
   "cell_type": "code",
   "execution_count": 69,
   "id": "991c4a88-b3d9-4465-89f9-091006ec93d5",
   "metadata": {},
   "outputs": [
    {
     "data": {
      "text/plain": [
       "0.9957960199004975"
      ]
     },
     "execution_count": 69,
     "metadata": {},
     "output_type": "execute_result"
    }
   ],
   "source": [
    "rfc.oob_score_"
   ]
  },
  {
   "cell_type": "markdown",
   "id": "ad3a27af-3481-457c-b1a0-27e10b5170ac",
   "metadata": {},
   "source": [
    "0.9957960199004975 - svd -7 opt  "
   ]
  },
  {
   "cell_type": "code",
   "execution_count": null,
   "id": "259eda1d-af70-441e-82e4-9a8017de352d",
   "metadata": {},
   "outputs": [
    {
     "data": {
      "text/plain": [
       "Index(['ssp_price', 'billable', 'stat_id', 'width', 'ssp_bid', 'sub_quantity',\n",
       "       'ssp_site_id', 'campaign_id', 'bid_ts', 'flight_id', 'quantity', 'bid'],\n",
       "      dtype='object')"
      ]
     },
     "execution_count": 97,
     "metadata": {},
     "output_type": "execute_result"
    }
   ],
   "source": [
    "np.array([1, 4, 5, 10, 14, 15, 17, 19, 21, 22, 24, 26]) - 1"
   ]
  },
  {
   "cell_type": "code",
   "execution_count": null,
   "id": "6a96e0e7-3614-49d0-8136-1cffe7df1989",
   "metadata": {},
   "outputs": [],
   "source": [
    "1 4 5 10 14 15 17 19 21(589) 22 24(573) 26(607)"
   ]
  },
  {
   "cell_type": "code",
   "execution_count": 90,
   "id": "9788365e-3c39-4478-98a0-f2c31215f19c",
   "metadata": {},
   "outputs": [
    {
     "data": {
      "text/plain": [
       "array([23, 14,  8, 20, 16,  2, 11, 18, 25,  7,  3, 12], dtype=int64)"
      ]
     },
     "execution_count": 90,
     "metadata": {},
     "output_type": "execute_result"
    }
   ],
   "source": [
    "np.argsort(rfc.feature_importances_)[~(np.array([1, 4, 5, 10, 14, 15, 17, 19, 21, 22, 24, 26]) - 1)]"
   ]
  },
  {
   "cell_type": "code",
   "execution_count": null,
   "id": "22c6c46f-e7bf-44b9-aa8e-a09dbdf4b267",
   "metadata": {},
   "outputs": [
    {
     "data": {
      "text/plain": [
       "0.9961094527363185"
      ]
     },
     "execution_count": 94,
     "metadata": {},
     "output_type": "execute_result"
    }
   ],
   "source": [
    "rfc2 = RandomForestClassifier(n_estimators=500, n_jobs=-1, oob_score=True, random_state=1).\\\n",
    "fit(X_new.drop(X_new.columns[np.argsort(rfc.feature_importances_)[~(np.array([1, 4, 5, 10, 14, 15, 17, 19, 21, 22, 24, 26]) - 1)]], axis=1), y_train)\n",
    "rfc2.oob_score_"
   ]
  },
  {
   "cell_type": "code",
   "execution_count": 77,
   "id": "5082691c-f6d0-4b34-bc2f-a27bc85263b7",
   "metadata": {
    "collapsed": true,
    "jupyter": {
     "outputs_hidden": true
    },
    "tags": []
   },
   "outputs": [
    {
     "name": "stdout",
     "output_type": "stream",
     "text": [
      "0.9957960199004975\n",
      "0.9957611940298507\n",
      "0.995776119402985\n",
      "0.9958009950248756\n",
      "0.9957512437810945\n",
      "0.995726368159204\n",
      "0.9957611940298507\n",
      "0.9957611940298507\n",
      "0.9957661691542289\n",
      "0.9958159203980099\n",
      "0.9958059701492538\n",
      "0.9958109452736318\n",
      "0.9958109452736318\n",
      "0.9958606965174129\n",
      "0.9958358208955224\n",
      "0.9957910447761193\n",
      "0.9959253731343284\n",
      "0.9958855721393035\n",
      "0.9959104477611941\n",
      "0.9958656716417911\n",
      "0.9959203980099502\n",
      "0.9958955223880597\n",
      "0.9958656716417911\n",
      "0.9958855721393035\n",
      "0.9957363184079602\n",
      "0.9960796019900497\n",
      "0.9960796019900497\n"
     ]
    }
   ],
   "source": [
    "arr = []\n",
    "for i in range(27):\n",
    "    rfc1 = RandomForestClassifier(n_estimators=500, n_jobs=-1, oob_score=True, random_state=1).fit(X_new.drop(X_new.columns[np.argsort(rfc.feature_importances_)][:i], axis=1), y_train)\n",
    "    arr.append([rfc1, rfc1.oob_score_])\n",
    "    print(rfc1.oob_score_)"
   ]
  },
  {
   "cell_type": "markdown",
   "id": "2161cac0-520f-434d-975b-90abac9c832a",
   "metadata": {},
   "source": [
    "0.996457711442786\n"
   ]
  },
  {
   "cell_type": "code",
   "execution_count": null,
   "id": "56a0cff6-10aa-44b3-a0d1-4298215ddd9f",
   "metadata": {
    "collapsed": true,
    "jupyter": {
     "outputs_hidden": true
    },
    "tags": []
   },
   "outputs": [
    {
     "name": "stdout",
     "output_type": "stream",
     "text": [
      "0 (4.311568113964588e-08, 'sync_session_status')\n",
      "1 (0.00011229944718803416, 'adblock')\n",
      "2 (0.00012258951191887916, 'bid_type')\n",
      "3 (0.0005172547379843234, 'width')\n",
      "4 (0.0006328014930621334, 0)\n",
      "5 (0.003571110242985077, 6)\n",
      "6 (0.0036807028846386615, 5)\n",
      "7 (0.003802229584569241, 4)\n",
      "8 (0.004146853205004815, 2)\n",
      "9 (0.004207094454953624, 3)\n",
      "10 (0.004578722159534966, 1)\n",
      "11 (0.004669481810100277, 'dmp_commission')\n",
      "12 (0.005787896919581619, 'height')\n",
      "13 (0.008498787468079763, 'device_type')\n",
      "14 (0.009224336325343013, 'sales_category_id')\n",
      "15 (0.020031034654569232, 'account_id')\n",
      "16 (0.025233267253091097, 'flight_id')\n",
      "17 (0.026748566929476695, 'creative2flight_id')\n",
      "18 (0.043423542764439514, 'tagid')\n",
      "19 (0.04637587039931236, 'stat_id')\n",
      "20 (0.06716097235824206, 'ssp_price')\n",
      "21 (0.11135840722159346, 'request_ts')\n",
      "22 (0.11288703206964573, 'show_ts')\n",
      "23 (0.11548900121508983, 'session_id')\n",
      "24 (0.12377038289542756, 'ssp_bid')\n",
      "25 (0.12612650130362657, 'plan')\n",
      "26 (0.1278432175748604, 'bidid')\n"
     ]
    }
   ],
   "source": [
    "for (i, x) in enumerate(zip(np.sort(rfc.feature_importances_), X_new.columns[np.argsort(rfc.feature_importances_)])):\n",
    "    print(i, x)"
   ]
  },
  {
   "cell_type": "code",
   "execution_count": 224,
   "id": "655c6643-55ce-4de0-8416-8d32e21d8519",
   "metadata": {
    "collapsed": true,
    "jupyter": {
     "outputs_hidden": true
    },
    "tags": []
   },
   "outputs": [
    {
     "name": "stdout",
     "output_type": "stream",
     "text": [
      "0 (0.027040779753104954, '0P')\n",
      "1 (0.030525673371642754, '2P')\n",
      "2 (0.031157643603126717, 'stat_id')\n",
      "3 (0.032382706411283525, '1P')\n",
      "4 (0.03416417334590678, '3P')\n",
      "5 (0.034660002910383084, '4P')\n",
      "6 (0.0415615772780319, 'ssp_price')\n",
      "7 (0.06445821274276432, 'bid_ts')\n",
      "8 (0.06461240408355585, 'request_ts')\n",
      "9 (0.06551085814198729, 'show_ts')\n",
      "10 (0.07512823657568855, 'sub_plan')\n",
      "11 (0.0792912217513335, 'session_id')\n",
      "12 (0.0809273554619468, 'plan')\n",
      "13 (0.0812528847736526, 'sub_quantity')\n",
      "14 (0.08323044651656801, 'ssp_bid')\n",
      "15 (0.08480335108511086, 'quantity')\n",
      "16 (0.08929247219391247, 'bidid')\n"
     ]
    }
   ],
   "source": [
    "for (i, x) in enumerate(zip(np.sort(rfc1.feature_importances_), X_sq_train.columns[np.argsort(rfc1.feature_importances_)])):\n",
    "    print(i, x)"
   ]
  },
  {
   "cell_type": "code",
   "execution_count": 102,
   "id": "9d9affbe-3a0e-4c97-9fe5-95543542ab85",
   "metadata": {},
   "outputs": [],
   "source": [
    "X_new_1 = X_new.drop(X_new.columns[np.argsort(rfc.feature_importances_)[~(np.array([1, 4, 5, 10, 14, 15, 17, 19, 21, 22, 24, 26]) - 1)]], axis=1)"
   ]
  },
  {
   "cell_type": "code",
   "execution_count": 106,
   "id": "8d33d598-4fbe-4a5c-85a0-87357110a666",
   "metadata": {},
   "outputs": [
    {
     "data": {
      "text/plain": [
       "0.9957960199004975"
      ]
     },
     "execution_count": 106,
     "metadata": {},
     "output_type": "execute_result"
    }
   ],
   "source": [
    "from sklearn.decomposition import PCA, TruncatedSVD\n",
    "i2 = 12\n",
    "i3 = 3\n",
    "columns = [x for x in X_new_1.columns[np.argsort(rfc2.feature_importances_)]][:i2]\n",
    "svd_drop = TruncatedSVD(n_components=i3, random_state=1).fit(X_new_1[columns])\n",
    "wh_train = pd.DataFrame(svd_drop.transform(X_new_1[columns]), columns=[str(x) + 'P' for x in range(i3)])\n",
    "\n",
    "X_sq_train = pd.concat([X_new.drop(columns, axis=1), wh_train], axis=1)\n",
    "\n",
    "rfc1 = RandomForestClassifier(n_estimators=500, n_jobs=-1, oob_score=True, random_state=1).fit(X_sq_train, y_train)\n",
    "rfc1.oob_score_"
   ]
  },
  {
   "cell_type": "markdown",
   "id": "3b286a47-245c-4cc7-8b28-0e4a9c1a1f09",
   "metadata": {},
   "source": [
    "0.9958009950248756"
   ]
  },
  {
   "cell_type": "markdown",
   "id": "5619a617-fb68-482d-a2cd-fa969b00f948",
   "metadata": {},
   "source": [
    "0.9963781094527363 - 25 - 5 SVD; baseline  \n",
    "0.996457711442786 - 27 - 5 SVD; baseline?  "
   ]
  },
  {
   "cell_type": "code",
   "execution_count": 483,
   "id": "3f2cd5a0-c808-48b7-ad35-5e2916199afe",
   "metadata": {
    "tags": []
   },
   "outputs": [],
   "source": [
    "wh_test = pd.DataFrame(svd_drop.transform(X_new_test[columns]), columns=[str(x) + 'P' for x in range(i3)])\n",
    "X_sq_test = pd.concat([X_new_test.drop(columns, axis=1), wh_test], axis=1)"
   ]
  },
  {
   "cell_type": "code",
   "execution_count": 66,
   "id": "9b321e42-e456-4399-b0f3-7bc309912a44",
   "metadata": {},
   "outputs": [],
   "source": [
    "i5 = 3\n",
    "columns = [\"show_ts\", \"bid_ts\", \"request_ts\"]\n",
    "svd_drop = PCA(n_components=i5, random_state=1).fit(X_sq_train[columns])\n",
    "wh_train = pd.DataFrame(svd_drop.transform(X_sq_train[columns]), columns=[str(x) + 'P' for x in range(i5)])\n",
    "X_sq_train_pca = pd.concat([X_sq_train.drop(columns, axis=1), wh_train], axis=1)"
   ]
  },
  {
   "cell_type": "code",
   "execution_count": 67,
   "id": "8c122b8e-690d-4dd5-8c77-081293ac6cf0",
   "metadata": {},
   "outputs": [
    {
     "data": {
      "text/plain": [
       "0.9956865671641791"
      ]
     },
     "execution_count": 67,
     "metadata": {},
     "output_type": "execute_result"
    }
   ],
   "source": [
    "rfc2 = RandomForestClassifier(n_estimators=500, n_jobs=-1, oob_score=True, random_state=1).fit(X_sq_train_pca, y_train)\n",
    "rfc2.oob_score_"
   ]
  },
  {
   "cell_type": "markdown",
   "id": "832e1ea1-f7ef-4391-baea-e4c9b1b4c866",
   "metadata": {},
   "source": [
    "show_ts, request_ts, bid_ts - PCA doesn't work  \n",
    "\"plan\", \"sub_plan\" - PCA -"
   ]
  },
  {
   "cell_type": "code",
   "execution_count": 234,
   "id": "2f58e0ed-2b40-4567-b30a-cccc514c752b",
   "metadata": {},
   "outputs": [],
   "source": [
    "y_out_pred = rfc1.predict(X_sq_test)"
   ]
  },
  {
   "cell_type": "code",
   "execution_count": 841,
   "id": "45426dd1-7322-40a3-b59a-d9367ca40e7b",
   "metadata": {},
   "outputs": [
    {
     "data": {
      "text/plain": [
       "0    98841\n",
       "1      159\n",
       "Name: click, dtype: int64"
      ]
     },
     "execution_count": 841,
     "metadata": {},
     "output_type": "execute_result"
    }
   ],
   "source": [
    "y_out.click.value_counts()"
   ]
  },
  {
   "cell_type": "code",
   "execution_count": 235,
   "id": "39cd17e8-0294-48a3-bbd6-6273b8fc6eaf",
   "metadata": {},
   "outputs": [],
   "source": [
    "y_out = pd.concat([test[\"row_number\"], pd.Series(y_out_pred)], axis=1)\n",
    "y_out.columns = [\"row_number\", \"click\"]\n",
    "y_out.to_csv(\"out.csv\", index=False)"
   ]
  },
  {
   "cell_type": "code",
   "execution_count": 712,
   "id": "3d3fdf54-5f18-4885-90a1-b47732329f7d",
   "metadata": {},
   "outputs": [
    {
     "data": {
      "text/plain": [
       "0.9952769485903814"
      ]
     },
     "execution_count": 712,
     "metadata": {},
     "output_type": "execute_result"
    }
   ],
   "source": [
    "rfc1 = RandomForestClassifier(n_estimators=500, n_jobs=-1, oob_score=True, random_state=1).fit(X_new1, y_train)\n",
    "rfc1.oob_score_"
   ]
  },
  {
   "cell_type": "code",
   "execution_count": 714,
   "id": "4888d423-3682-426b-96a9-c59a00f432b4",
   "metadata": {},
   "outputs": [
    {
     "data": {
      "text/plain": [
       "0.1732094179246249"
      ]
     },
     "execution_count": 714,
     "metadata": {},
     "output_type": "execute_result"
    }
   ],
   "source": [
    "log_loss(y_test, rfc1.predict(X_new_test1))"
   ]
  },
  {
   "cell_type": "markdown",
   "id": "d71dd5d3-b557-46f0-8ad6-b1452083a6f6",
   "metadata": {
    "jupyter": {
     "source_hidden": true
    },
    "tags": []
   },
   "source": [
    "0.18558148510698372\n",
    "0.9948192371475953\n",
    "0.99505\n",
    "0.9950315091210613 - 7\n",
    "0.9950845771144279 - 4\n",
    "0.9950912106135986 - 2\n",
    "0.17183477208193912 - 1\n",
    "0.1752714344258136 - 2\n",
    "0.1855 - 70\n",
    "0.995469320066335 - theme, bid_t\n",
    "0.16839809382567797 - \n",
    "0.9948789386401327 - stock\n",
    "0.1848941462732542 - stock\n",
    "0.9954626865671642 - adb\n",
    "0.9954958540630182 - width\n",
    "0.9954825870646766 - adb width\n",
    "0.9955223880597015 - dmp\n",
    "0.9954759535655058\n",
    "0.9951442786069652 - all theme and feature (not bid_id)\n",
    "0.9952305140961858 - 30 drop\n",
    "0.9951310116086235 - 10 drop\n",
    "0.9951442786069652\n",
    "0.9953897180762853 - PCA 10 components\n",
    "0.9954295190713102 - PCA 3 comp\n",
    "0.9957412935323383\n",
    "0.9957014925373134\n",
    "0.9957512437810945\n",
    "0.995776119402985 - SVD 5 comp\n",
    "0.9957960199004975 - SVD 7 comp\n",
    "0.995731343283582 - SVD 11 comp\n",
    "0.9957363184079602\n",
    "0.995731343283582\n",
    "0.9957960199004975"
   ]
  },
  {
   "cell_type": "code",
   "execution_count": 81,
   "id": "731dce6e-5ae0-407f-9812-a74363e1d5de",
   "metadata": {},
   "outputs": [],
   "source": [
    "test = pd.read_csv(\"./click-prediction-2/test.csv\")"
   ]
  },
  {
   "cell_type": "code",
   "execution_count": 82,
   "id": "ff0e9b80-812d-42fd-8a2d-ffcb6aca7bce",
   "metadata": {},
   "outputs": [],
   "source": [
    "arr = []\n",
    "for x in test.columns:\n",
    "    if \"_id\" in x and str(train[x].dtype) != \"int64\":\n",
    "        arr.append(x)"
   ]
  },
  {
   "cell_type": "code",
   "execution_count": 128,
   "id": "250bd1c1-fdc5-4e94-8e52-fe5426fe8b56",
   "metadata": {},
   "outputs": [],
   "source": [
    "X_test = test.drop(arr, axis=1)"
   ]
  },
  {
   "cell_type": "code",
   "execution_count": 84,
   "id": "1840b270-e36d-49a0-a739-6ff7e9c0a986",
   "metadata": {},
   "outputs": [],
   "source": [
    "dmp_commission_test = X_test[\"dmp_commission\"].apply(dmp)"
   ]
  },
  {
   "cell_type": "code",
   "execution_count": 85,
   "id": "0506fef1-459d-4af4-9b52-860558b46171",
   "metadata": {},
   "outputs": [
    {
     "data": {
      "text/plain": [
       "0                      [-1]\n",
       "1                      [-1]\n",
       "2                      [-1]\n",
       "3                      [-1]\n",
       "4                      [-1]\n",
       "5                      [-1]\n",
       "6                      [-1]\n",
       "7                      [-1]\n",
       "8    [90, 109, 102, 78, 88]\n",
       "9                      [-1]\n",
       "Name: thematics, dtype: object"
      ]
     },
     "execution_count": 85,
     "metadata": {},
     "output_type": "execute_result"
    }
   ],
   "source": [
    "thematics_test = X_test[\"thematics\"].apply(clear)\n",
    "thematics.head(10)"
   ]
  },
  {
   "cell_type": "code",
   "execution_count": 86,
   "id": "9205693c-92b9-498d-bc7c-1b06b96447f5",
   "metadata": {},
   "outputs": [],
   "source": [
    "thematics_dummies_test = pd.get_dummies(thematics_test.apply(pd.Series).stack()).groupby(level=0).sum()"
   ]
  },
  {
   "cell_type": "code",
   "execution_count": 87,
   "id": "df3aec28-7178-4d30-b1ef-89f2d9c00cd8",
   "metadata": {},
   "outputs": [],
   "source": [
    "thematics_dummies_test.columns = thematics_dummies_test.columns.astype(np.int)"
   ]
  },
  {
   "cell_type": "code",
   "execution_count": 88,
   "id": "0f1c98c1-683b-48a2-ae34-0e851ffc6860",
   "metadata": {},
   "outputs": [],
   "source": [
    "sync_session_status_test = X_test[\"sync_session_status\"]"
   ]
  },
  {
   "cell_type": "code",
   "execution_count": 127,
   "id": "cbeefab2-4935-4760-b85c-8755c020fcc2",
   "metadata": {},
   "outputs": [],
   "source": [
    "new_session_id_test = o_session_id.transform(np.array(test.session_id.fillna(\"-1\")).reshape(-1, 1))\n",
    "new_bid_id_test = o_bid_id.transform(np.array(test.bid_id.fillna(\"-1\")).reshape(-1, 1))\n",
    "new_bidid_test = o_bidid.transform(np.array(test.bidid.fillna(\"-1\")).reshape(-1, 1))"
   ]
  },
  {
   "cell_type": "code",
   "execution_count": 189,
   "id": "7d4d8ab7-0253-439f-9498-3bc27952a6a1",
   "metadata": {},
   "outputs": [],
   "source": [
    "X_test = test.drop(arr + [\"dmp_commission\"] + [\"ssp_name\"] + [\"bidid\"] + [\"sync_session_status\"] + [\"thematics\"] + [\"row_number\"], axis=1)"
   ]
  },
  {
   "cell_type": "code",
   "execution_count": 130,
   "id": "3a19011c-ed14-484f-bb9e-64d8e48d597e",
   "metadata": {},
   "outputs": [],
   "source": [
    "X_new_test = pd.concat([X_test, thematics_dummies_test, dmp_commission_test, sync_session_status_test, pd.DataFrame(new_session_id_test, columns=[\"session_id\"]), \n",
    "                       pd.DataFrame(new_bid_id_test, columns=[\"bid_id\"]), \n",
    "                       pd.DataFrame(new_bidid_test, columns=[\"bidid\"])], axis=1)"
   ]
  },
  {
   "cell_type": "code",
   "execution_count": 138,
   "id": "1305eab4-e95f-4b51-b7b6-c8cfb9adac7c",
   "metadata": {},
   "outputs": [
    {
     "data": {
      "text/plain": [
       "0    98918\n",
       "1       82\n",
       "Name: click, dtype: int64"
      ]
     },
     "execution_count": 138,
     "metadata": {},
     "output_type": "execute_result"
    }
   ],
   "source": [
    "y_out.click.value_counts()"
   ]
  },
  {
   "cell_type": "code",
   "execution_count": 133,
   "id": "3c7bea85-89d6-4ef2-8f8b-41e85117e343",
   "metadata": {
    "tags": []
   },
   "outputs": [],
   "source": [
    "y_test = rfc.predict(X_new_test)"
   ]
  },
  {
   "cell_type": "code",
   "execution_count": 132,
   "id": "a4d3d2bd-4455-4c8e-9ec3-cd2ee3a8ca61",
   "metadata": {},
   "outputs": [],
   "source": [
    "X_new_test['sub_quantity'] = X_new_test['sub_quantity'].fillna(-1)\n",
    "X_new_test['sub_plan'] = X_new_test['sub_plan'].fillna(-1)"
   ]
  },
  {
   "cell_type": "code",
   "execution_count": 136,
   "id": "de8ce0b0-1847-4153-a71f-984d4549fa83",
   "metadata": {},
   "outputs": [],
   "source": [
    "y_out = pd.concat([test[\"row_number\"], pd.Series(y_test)], axis=1)"
   ]
  },
  {
   "cell_type": "code",
   "execution_count": 137,
   "id": "8e41d227-cdf3-44a4-8497-b65e20e13aef",
   "metadata": {},
   "outputs": [],
   "source": [
    "y_out.columns = [\"row_number\", \"click\"]"
   ]
  },
  {
   "cell_type": "code",
   "execution_count": 139,
   "id": "c472e05c-79b5-40c7-931f-845b9a3e9a2b",
   "metadata": {},
   "outputs": [],
   "source": [
    "y_out.to_csv(\"out.csv\", index=False)"
   ]
  },
  {
   "cell_type": "code",
   "execution_count": 12,
   "id": "3c3d7f6d-0da7-45e2-b69e-7b1c6083d6cf",
   "metadata": {},
   "outputs": [],
   "source": [
    "from sklearn import datasets\n",
    "from sklearn.model_selection import train_test_split, GridSearchCV, cross_val_score\n",
    "from sklearn.linear_model import LinearRegression, SGDClassifier\n",
    "from sklearn.tree import DecisionTreeRegressor\n",
    "from sklearn.metrics import mean_squared_error, SCORERS, log_loss, mean_squared_error\n",
    "from sklearn.ensemble import GradientBoostingRegressor, RandomForestRegressor, AdaBoostClassifier\n",
    "import numpy as np\n",
    "import xgboost as xgb\n",
    "import matplotlib.pyplot as plt\n",
    "from sklearn.svm import SVC\n",
    "from sklearn.preprocessing import RobustScaler, StandardScaler\n",
    "from catboost import CatBoostClassifier"
   ]
  },
  {
   "cell_type": "code",
   "execution_count": null,
   "id": "5704de8d-ea15-476d-bd69-569f4a5568d0",
   "metadata": {},
   "outputs": [],
   "source": [
    "X_robust = StandardScaler().fit_transform(X_sq_train)\n",
    "X_train_r, X_valid, y_train_r, y_valid = train_test_split(X_robust, y_train, random_state=537, test_size=.20, shuffle=True)\n",
    "X_train_n, X_test, y_train_n, y_test = train_test_split(X_train_r, y_train_r, random_state=537, test_size=.20, shuffle=True)"
   ]
  },
  {
   "cell_type": "code",
   "execution_count": null,
   "id": "4684d9ef-d1a7-4d4a-b0e7-db4881be384b",
   "metadata": {},
   "outputs": [
    {
     "ename": "NameError",
     "evalue": "name 'X_sq_train' is not defined",
     "output_type": "error",
     "traceback": [
      "\u001b[1;31m---------------------------------------------------------------------------\u001b[0m",
      "\u001b[1;31mNameError\u001b[0m                                 Traceback (most recent call last)",
      "\u001b[1;32mC:\\Users\\DESPAC~1\\AppData\\Local\\Temp/ipykernel_17208/1605086468.py\u001b[0m in \u001b[0;36m<module>\u001b[1;34m\u001b[0m\n\u001b[1;32m----> 1\u001b[1;33m \u001b[0mrobust_scaler\u001b[0m \u001b[1;33m=\u001b[0m \u001b[0mStandardScaler\u001b[0m\u001b[1;33m(\u001b[0m\u001b[1;33m)\u001b[0m\u001b[1;33m.\u001b[0m\u001b[0mfit\u001b[0m\u001b[1;33m(\u001b[0m\u001b[0mX_sq_train\u001b[0m\u001b[1;33m)\u001b[0m\u001b[1;33m\u001b[0m\u001b[1;33m\u001b[0m\u001b[0m\n\u001b[0m\u001b[0;32m      2\u001b[0m \u001b[0mX_scaler_train\u001b[0m \u001b[1;33m=\u001b[0m \u001b[0mrobust_scaler\u001b[0m\u001b[1;33m.\u001b[0m\u001b[0mtransform\u001b[0m\u001b[1;33m(\u001b[0m\u001b[0mX_sq_train\u001b[0m\u001b[1;33m)\u001b[0m\u001b[1;33m\u001b[0m\u001b[1;33m\u001b[0m\u001b[0m\n\u001b[0;32m      3\u001b[0m \u001b[0mX_scaler_test\u001b[0m \u001b[1;33m=\u001b[0m \u001b[0mrobust_scaler\u001b[0m\u001b[1;33m.\u001b[0m\u001b[0mtransform\u001b[0m\u001b[1;33m(\u001b[0m\u001b[0mX_sq_test\u001b[0m\u001b[1;33m)\u001b[0m\u001b[1;33m\u001b[0m\u001b[1;33m\u001b[0m\u001b[0m\n",
      "\u001b[1;31mNameError\u001b[0m: name 'X_sq_train' is not defined"
     ]
    }
   ],
   "source": [
    "robust_scaler = StandardScaler().fit(X_sq_train)\n",
    "X_scaler_train = robust_scaler.transform(X_sq_train)\n",
    "X_scaler_test = robust_scaler.transform(X_sq_test)   "
   ]
  },
  {
   "cell_type": "code",
   "execution_count": 494,
   "id": "2a72745e-b00e-414d-808a-885ae9259aff",
   "metadata": {
    "tags": []
   },
   "outputs": [
    {
     "name": "stdout",
     "output_type": "stream",
     "text": [
      "0 (0.0, 'bid_ts')\n",
      "1 (0.038044494, 'ssp_price')\n",
      "2 (0.04839327, '0P')\n",
      "3 (0.050223734, 'sub_plan')\n",
      "4 (0.050976172, 'plan')\n",
      "5 (0.051142637, 'ssp_bid')\n",
      "6 (0.052389838, 'quantity')\n",
      "7 (0.053821743, 'show_ts')\n",
      "8 (0.054753873, '4P')\n",
      "9 (0.055445526, '2P')\n",
      "10 (0.056014016, 'stat_id')\n",
      "11 (0.056399263, 'session_id')\n",
      "12 (0.05783613, 'bidid')\n",
      "13 (0.057997372, 'sub_quantity')\n",
      "14 (0.06229765, 'request_ts')\n",
      "15 (0.09890033, '3P')\n",
      "16 (0.15536396, '1P')\n"
     ]
    }
   ],
   "source": [
    "for i, x in enumerate(zip(np.sort(a3.feature_importances_), X_sq_train.columns[np.argsort(a3.feature_importances_)])):\n",
    "    print(i, x)"
   ]
  },
  {
   "cell_type": "code",
   "execution_count": 479,
   "id": "7284ee12-5080-4d91-8010-ee2efa254d20",
   "metadata": {},
   "outputs": [
    {
     "data": {
      "text/plain": [
       "0.02439208797227263"
      ]
     },
     "execution_count": 479,
     "metadata": {},
     "output_type": "execute_result"
    }
   ],
   "source": [
    "a4 = xgb.XGBClassifier(alpha=.4, n_estimators=350, random_state=42, max_depth=20, tree_method='gpu_hist', gpu_id=0, learning_rate=.02, use_label_encoder=False, eval_metric=\"logloss\")\n",
    "-np.mean(cross_val_score(a4, pd.DataFrame(X_robust).drop(np.argsort(a3.feature_importances_)[:4], axis=1), y_train, cv=5, scoring=\"neg_log_loss\"))"
   ]
  },
  {
   "cell_type": "markdown",
   "id": "3f7acc05-8b8e-44d8-9e57-0d415e756f60",
   "metadata": {},
   "source": [
    "0.02506480851613329  \n",
    "0.02438125480368151 :3\n",
    "0.024370819273096943 :4"
   ]
  },
  {
   "cell_type": "code",
   "execution_count": 495,
   "id": "415b19e6-1c6f-4ab5-b90d-410607e6aa3f",
   "metadata": {},
   "outputs": [],
   "source": [
    "a5 = xgb.XGBClassifier(alpha=.4, n_estimators=350, random_state=42, max_depth=20, tree_method='gpu_hist', gpu_id=0, learning_rate=.02, \n",
    "                       use_label_encoder=False, eval_metric=\"logloss\").fit(pd.DataFrame(X_scaler_train).drop(np.argsort(a3.feature_importances_)[:4], axis=1), y_train)\n"
   ]
  },
  {
   "cell_type": "code",
   "execution_count": null,
   "id": "007a2291-8432-4c88-851b-7c32cd3e7d45",
   "metadata": {
    "collapsed": true,
    "jupyter": {
     "outputs_hidden": true
    },
    "tags": []
   },
   "outputs": [
    {
     "ename": "KeyboardInterrupt",
     "evalue": "",
     "output_type": "error",
     "traceback": [
      "\u001b[1;31m---------------------------------------------------------------------------\u001b[0m",
      "\u001b[1;31mKeyboardInterrupt\u001b[0m                         Traceback (most recent call last)",
      "\u001b[1;32mC:\\Users\\DESPAC~1\\AppData\\Local\\Temp/ipykernel_2940/2608975128.py\u001b[0m in \u001b[0;36m<module>\u001b[1;34m\u001b[0m\n\u001b[0;32m      1\u001b[0m a3 = xgb.XGBClassifier(random_state=42, use_label_encoder=False, \n\u001b[0;32m      2\u001b[0m                        tree_method='gpu_hist', gpu_id=0, eval_metric=\"logloss\")\n\u001b[1;32m----> 3\u001b[1;33m \u001b[0mada\u001b[0m \u001b[1;33m=\u001b[0m \u001b[0mAdaBoostClassifier\u001b[0m\u001b[1;33m(\u001b[0m\u001b[0mbase_estimator\u001b[0m\u001b[1;33m=\u001b[0m\u001b[0mGradientBoostingClassifier\u001b[0m\u001b[1;33m(\u001b[0m\u001b[0mrandom_state\u001b[0m\u001b[1;33m=\u001b[0m\u001b[1;36m42\u001b[0m\u001b[1;33m)\u001b[0m\u001b[1;33m,\u001b[0m \u001b[0mrandom_state\u001b[0m\u001b[1;33m=\u001b[0m\u001b[1;36m42\u001b[0m\u001b[1;33m)\u001b[0m\u001b[1;33m.\u001b[0m\u001b[0mfit\u001b[0m\u001b[1;33m(\u001b[0m\u001b[0mX_train_n\u001b[0m\u001b[1;33m,\u001b[0m \u001b[0my_train_n\u001b[0m\u001b[1;33m)\u001b[0m\u001b[1;33m\u001b[0m\u001b[1;33m\u001b[0m\u001b[0m\n\u001b[0m",
      "\u001b[1;32mA:\\Anaconda3\\lib\\site-packages\\sklearn\\ensemble\\_weight_boosting.py\u001b[0m in \u001b[0;36mfit\u001b[1;34m(self, X, y, sample_weight)\u001b[0m\n\u001b[0;32m    441\u001b[0m \u001b[1;33m\u001b[0m\u001b[0m\n\u001b[0;32m    442\u001b[0m         \u001b[1;31m# Fit\u001b[0m\u001b[1;33m\u001b[0m\u001b[1;33m\u001b[0m\u001b[1;33m\u001b[0m\u001b[0m\n\u001b[1;32m--> 443\u001b[1;33m         \u001b[1;32mreturn\u001b[0m \u001b[0msuper\u001b[0m\u001b[1;33m(\u001b[0m\u001b[1;33m)\u001b[0m\u001b[1;33m.\u001b[0m\u001b[0mfit\u001b[0m\u001b[1;33m(\u001b[0m\u001b[0mX\u001b[0m\u001b[1;33m,\u001b[0m \u001b[0my\u001b[0m\u001b[1;33m,\u001b[0m \u001b[0msample_weight\u001b[0m\u001b[1;33m)\u001b[0m\u001b[1;33m\u001b[0m\u001b[1;33m\u001b[0m\u001b[0m\n\u001b[0m\u001b[0;32m    444\u001b[0m \u001b[1;33m\u001b[0m\u001b[0m\n\u001b[0;32m    445\u001b[0m     \u001b[1;32mdef\u001b[0m \u001b[0m_validate_estimator\u001b[0m\u001b[1;33m(\u001b[0m\u001b[0mself\u001b[0m\u001b[1;33m)\u001b[0m\u001b[1;33m:\u001b[0m\u001b[1;33m\u001b[0m\u001b[1;33m\u001b[0m\u001b[0m\n",
      "\u001b[1;32mA:\\Anaconda3\\lib\\site-packages\\sklearn\\ensemble\\_weight_boosting.py\u001b[0m in \u001b[0;36mfit\u001b[1;34m(self, X, y, sample_weight)\u001b[0m\n\u001b[0;32m    128\u001b[0m         \u001b[1;32mfor\u001b[0m \u001b[0miboost\u001b[0m \u001b[1;32min\u001b[0m \u001b[0mrange\u001b[0m\u001b[1;33m(\u001b[0m\u001b[0mself\u001b[0m\u001b[1;33m.\u001b[0m\u001b[0mn_estimators\u001b[0m\u001b[1;33m)\u001b[0m\u001b[1;33m:\u001b[0m\u001b[1;33m\u001b[0m\u001b[1;33m\u001b[0m\u001b[0m\n\u001b[0;32m    129\u001b[0m             \u001b[1;31m# Boosting step\u001b[0m\u001b[1;33m\u001b[0m\u001b[1;33m\u001b[0m\u001b[1;33m\u001b[0m\u001b[0m\n\u001b[1;32m--> 130\u001b[1;33m             sample_weight, estimator_weight, estimator_error = self._boost(\n\u001b[0m\u001b[0;32m    131\u001b[0m                 \u001b[0miboost\u001b[0m\u001b[1;33m,\u001b[0m\u001b[1;33m\u001b[0m\u001b[1;33m\u001b[0m\u001b[0m\n\u001b[0;32m    132\u001b[0m                 \u001b[0mX\u001b[0m\u001b[1;33m,\u001b[0m \u001b[0my\u001b[0m\u001b[1;33m,\u001b[0m\u001b[1;33m\u001b[0m\u001b[1;33m\u001b[0m\u001b[0m\n",
      "\u001b[1;32mA:\\Anaconda3\\lib\\site-packages\\sklearn\\ensemble\\_weight_boosting.py\u001b[0m in \u001b[0;36m_boost\u001b[1;34m(self, iboost, X, y, sample_weight, random_state)\u001b[0m\n\u001b[0;32m    501\u001b[0m         \"\"\"\n\u001b[0;32m    502\u001b[0m         \u001b[1;32mif\u001b[0m \u001b[0mself\u001b[0m\u001b[1;33m.\u001b[0m\u001b[0malgorithm\u001b[0m \u001b[1;33m==\u001b[0m \u001b[1;34m'SAMME.R'\u001b[0m\u001b[1;33m:\u001b[0m\u001b[1;33m\u001b[0m\u001b[1;33m\u001b[0m\u001b[0m\n\u001b[1;32m--> 503\u001b[1;33m             \u001b[1;32mreturn\u001b[0m \u001b[0mself\u001b[0m\u001b[1;33m.\u001b[0m\u001b[0m_boost_real\u001b[0m\u001b[1;33m(\u001b[0m\u001b[0miboost\u001b[0m\u001b[1;33m,\u001b[0m \u001b[0mX\u001b[0m\u001b[1;33m,\u001b[0m \u001b[0my\u001b[0m\u001b[1;33m,\u001b[0m \u001b[0msample_weight\u001b[0m\u001b[1;33m,\u001b[0m \u001b[0mrandom_state\u001b[0m\u001b[1;33m)\u001b[0m\u001b[1;33m\u001b[0m\u001b[1;33m\u001b[0m\u001b[0m\n\u001b[0m\u001b[0;32m    504\u001b[0m \u001b[1;33m\u001b[0m\u001b[0m\n\u001b[0;32m    505\u001b[0m         \u001b[1;32melse\u001b[0m\u001b[1;33m:\u001b[0m  \u001b[1;31m# elif self.algorithm == \"SAMME\":\u001b[0m\u001b[1;33m\u001b[0m\u001b[1;33m\u001b[0m\u001b[0m\n",
      "\u001b[1;32mA:\\Anaconda3\\lib\\site-packages\\sklearn\\ensemble\\_weight_boosting.py\u001b[0m in \u001b[0;36m_boost_real\u001b[1;34m(self, iboost, X, y, sample_weight, random_state)\u001b[0m\n\u001b[0;32m    511\u001b[0m         \u001b[0mestimator\u001b[0m \u001b[1;33m=\u001b[0m \u001b[0mself\u001b[0m\u001b[1;33m.\u001b[0m\u001b[0m_make_estimator\u001b[0m\u001b[1;33m(\u001b[0m\u001b[0mrandom_state\u001b[0m\u001b[1;33m=\u001b[0m\u001b[0mrandom_state\u001b[0m\u001b[1;33m)\u001b[0m\u001b[1;33m\u001b[0m\u001b[1;33m\u001b[0m\u001b[0m\n\u001b[0;32m    512\u001b[0m \u001b[1;33m\u001b[0m\u001b[0m\n\u001b[1;32m--> 513\u001b[1;33m         \u001b[0mestimator\u001b[0m\u001b[1;33m.\u001b[0m\u001b[0mfit\u001b[0m\u001b[1;33m(\u001b[0m\u001b[0mX\u001b[0m\u001b[1;33m,\u001b[0m \u001b[0my\u001b[0m\u001b[1;33m,\u001b[0m \u001b[0msample_weight\u001b[0m\u001b[1;33m=\u001b[0m\u001b[0msample_weight\u001b[0m\u001b[1;33m)\u001b[0m\u001b[1;33m\u001b[0m\u001b[1;33m\u001b[0m\u001b[0m\n\u001b[0m\u001b[0;32m    514\u001b[0m \u001b[1;33m\u001b[0m\u001b[0m\n\u001b[0;32m    515\u001b[0m         \u001b[0my_predict_proba\u001b[0m \u001b[1;33m=\u001b[0m \u001b[0mestimator\u001b[0m\u001b[1;33m.\u001b[0m\u001b[0mpredict_proba\u001b[0m\u001b[1;33m(\u001b[0m\u001b[0mX\u001b[0m\u001b[1;33m)\u001b[0m\u001b[1;33m\u001b[0m\u001b[1;33m\u001b[0m\u001b[0m\n",
      "\u001b[1;32mA:\\Anaconda3\\lib\\site-packages\\sklearn\\ensemble\\_gb.py\u001b[0m in \u001b[0;36mfit\u001b[1;34m(self, X, y, sample_weight, monitor)\u001b[0m\n\u001b[0;32m    502\u001b[0m \u001b[1;33m\u001b[0m\u001b[0m\n\u001b[0;32m    503\u001b[0m         \u001b[1;31m# fit the boosting stages\u001b[0m\u001b[1;33m\u001b[0m\u001b[1;33m\u001b[0m\u001b[1;33m\u001b[0m\u001b[0m\n\u001b[1;32m--> 504\u001b[1;33m         n_stages = self._fit_stages(\n\u001b[0m\u001b[0;32m    505\u001b[0m             \u001b[0mX\u001b[0m\u001b[1;33m,\u001b[0m \u001b[0my\u001b[0m\u001b[1;33m,\u001b[0m \u001b[0mraw_predictions\u001b[0m\u001b[1;33m,\u001b[0m \u001b[0msample_weight\u001b[0m\u001b[1;33m,\u001b[0m \u001b[0mself\u001b[0m\u001b[1;33m.\u001b[0m\u001b[0m_rng\u001b[0m\u001b[1;33m,\u001b[0m \u001b[0mX_val\u001b[0m\u001b[1;33m,\u001b[0m \u001b[0my_val\u001b[0m\u001b[1;33m,\u001b[0m\u001b[1;33m\u001b[0m\u001b[1;33m\u001b[0m\u001b[0m\n\u001b[0;32m    506\u001b[0m             sample_weight_val, begin_at_stage, monitor)\n",
      "\u001b[1;32mA:\\Anaconda3\\lib\\site-packages\\sklearn\\ensemble\\_gb.py\u001b[0m in \u001b[0;36m_fit_stages\u001b[1;34m(self, X, y, raw_predictions, sample_weight, random_state, X_val, y_val, sample_weight_val, begin_at_stage, monitor)\u001b[0m\n\u001b[0;32m    559\u001b[0m \u001b[1;33m\u001b[0m\u001b[0m\n\u001b[0;32m    560\u001b[0m             \u001b[1;31m# fit next stage of trees\u001b[0m\u001b[1;33m\u001b[0m\u001b[1;33m\u001b[0m\u001b[1;33m\u001b[0m\u001b[0m\n\u001b[1;32m--> 561\u001b[1;33m             raw_predictions = self._fit_stage(\n\u001b[0m\u001b[0;32m    562\u001b[0m                 \u001b[0mi\u001b[0m\u001b[1;33m,\u001b[0m \u001b[0mX\u001b[0m\u001b[1;33m,\u001b[0m \u001b[0my\u001b[0m\u001b[1;33m,\u001b[0m \u001b[0mraw_predictions\u001b[0m\u001b[1;33m,\u001b[0m \u001b[0msample_weight\u001b[0m\u001b[1;33m,\u001b[0m \u001b[0msample_mask\u001b[0m\u001b[1;33m,\u001b[0m\u001b[1;33m\u001b[0m\u001b[1;33m\u001b[0m\u001b[0m\n\u001b[0;32m    563\u001b[0m                 random_state, X_csc, X_csr)\n",
      "\u001b[1;32mA:\\Anaconda3\\lib\\site-packages\\sklearn\\ensemble\\_gb.py\u001b[0m in \u001b[0;36m_fit_stage\u001b[1;34m(self, i, X, y, raw_predictions, sample_weight, sample_mask, random_state, X_csc, X_csr)\u001b[0m\n\u001b[0;32m    212\u001b[0m \u001b[1;33m\u001b[0m\u001b[0m\n\u001b[0;32m    213\u001b[0m             \u001b[0mX\u001b[0m \u001b[1;33m=\u001b[0m \u001b[0mX_csr\u001b[0m \u001b[1;32mif\u001b[0m \u001b[0mX_csr\u001b[0m \u001b[1;32mis\u001b[0m \u001b[1;32mnot\u001b[0m \u001b[1;32mNone\u001b[0m \u001b[1;32melse\u001b[0m \u001b[0mX\u001b[0m\u001b[1;33m\u001b[0m\u001b[1;33m\u001b[0m\u001b[0m\n\u001b[1;32m--> 214\u001b[1;33m             tree.fit(X, residual, sample_weight=sample_weight,\n\u001b[0m\u001b[0;32m    215\u001b[0m                      check_input=False)\n\u001b[0;32m    216\u001b[0m \u001b[1;33m\u001b[0m\u001b[0m\n",
      "\u001b[1;32mA:\\Anaconda3\\lib\\site-packages\\sklearn\\tree\\_classes.py\u001b[0m in \u001b[0;36mfit\u001b[1;34m(self, X, y, sample_weight, check_input, X_idx_sorted)\u001b[0m\n\u001b[0;32m   1250\u001b[0m         \"\"\"\n\u001b[0;32m   1251\u001b[0m \u001b[1;33m\u001b[0m\u001b[0m\n\u001b[1;32m-> 1252\u001b[1;33m         super().fit(\n\u001b[0m\u001b[0;32m   1253\u001b[0m             \u001b[0mX\u001b[0m\u001b[1;33m,\u001b[0m \u001b[0my\u001b[0m\u001b[1;33m,\u001b[0m\u001b[1;33m\u001b[0m\u001b[1;33m\u001b[0m\u001b[0m\n\u001b[0;32m   1254\u001b[0m             \u001b[0msample_weight\u001b[0m\u001b[1;33m=\u001b[0m\u001b[0msample_weight\u001b[0m\u001b[1;33m,\u001b[0m\u001b[1;33m\u001b[0m\u001b[1;33m\u001b[0m\u001b[0m\n",
      "\u001b[1;32mA:\\Anaconda3\\lib\\site-packages\\sklearn\\tree\\_classes.py\u001b[0m in \u001b[0;36mfit\u001b[1;34m(self, X, y, sample_weight, check_input, X_idx_sorted)\u001b[0m\n\u001b[0;32m    392\u001b[0m                                            min_impurity_split)\n\u001b[0;32m    393\u001b[0m \u001b[1;33m\u001b[0m\u001b[0m\n\u001b[1;32m--> 394\u001b[1;33m         \u001b[0mbuilder\u001b[0m\u001b[1;33m.\u001b[0m\u001b[0mbuild\u001b[0m\u001b[1;33m(\u001b[0m\u001b[0mself\u001b[0m\u001b[1;33m.\u001b[0m\u001b[0mtree_\u001b[0m\u001b[1;33m,\u001b[0m \u001b[0mX\u001b[0m\u001b[1;33m,\u001b[0m \u001b[0my\u001b[0m\u001b[1;33m,\u001b[0m \u001b[0msample_weight\u001b[0m\u001b[1;33m)\u001b[0m\u001b[1;33m\u001b[0m\u001b[1;33m\u001b[0m\u001b[0m\n\u001b[0m\u001b[0;32m    395\u001b[0m \u001b[1;33m\u001b[0m\u001b[0m\n\u001b[0;32m    396\u001b[0m         \u001b[1;32mif\u001b[0m \u001b[0mself\u001b[0m\u001b[1;33m.\u001b[0m\u001b[0mn_outputs_\u001b[0m \u001b[1;33m==\u001b[0m \u001b[1;36m1\u001b[0m \u001b[1;32mand\u001b[0m \u001b[0mis_classifier\u001b[0m\u001b[1;33m(\u001b[0m\u001b[0mself\u001b[0m\u001b[1;33m)\u001b[0m\u001b[1;33m:\u001b[0m\u001b[1;33m\u001b[0m\u001b[1;33m\u001b[0m\u001b[0m\n",
      "\u001b[1;31mKeyboardInterrupt\u001b[0m: "
     ]
    }
   ],
   "source": [
    "a3 = xgb.XGBClassifier(alpha=.4, n_estimators=350, random_state=42, max_depth=20, tree_method='gpu_hist', gpu_id=0, learning_rate=.02, \n",
    "                       use_label_encoder=False, eval_metric=\"logloss\").fit(X_scaler_train, y_train)"
   ]
  },
  {
   "cell_type": "markdown",
   "id": "bda2825c-bd56-4973-9167-28f60d7f1133",
   "metadata": {},
   "source": [
    "0.027616484837554384 - cv - max_depth=6, n_estimators=500, learning_rate=.1, random_state=42, use_label_encoder=False, tree_method='gpu_hist', gpu_id=0, eval_metric=\"logloss\"  \n",
    "0.02581962736736757 - cv - alpha=.4, n_estimators=350, random_state=42, max_depth=20, tree_method='gpu_hist', gpu_id=0, learning_rate=.02, use_label_encoder=False, eval_metric=\"logloss\"  \n",
    "0.025743451440242492:0.026307132926935196  \n",
    "ss cv - alpha=.4, n_estimators=350, random_state=42, max_depth=20, tree_method='gpu_hist', gpu_id=0, learning_rate=.02, use_label_encoder=False, eval_metric=\"logloss\"  \n",
    "277"
   ]
  },
  {
   "cell_type": "code",
   "execution_count": 513,
   "id": "25d5e6d4-19b1-4b8e-a75b-ae7cbb97a8ec",
   "metadata": {},
   "outputs": [],
   "source": [
    "X_scaler_train_4 = pd.DataFrame(X_scaler_train).drop(np.argsort(a3.feature_importances_)[:4], axis=1)\n",
    "X_scaler_test_4 = pd.DataFrame(X_scaler_test).drop(np.argsort(a3.feature_importances_)[:4], axis=1)"
   ]
  },
  {
   "cell_type": "code",
   "execution_count": 514,
   "id": "9472e3ae-bb9f-4030-9a0a-77b2ed1c4cf6",
   "metadata": {},
   "outputs": [],
   "source": [
    "X_scaler_train_4.to_csv(\"X_scaler_train_4.csv\")\n",
    "X_scaler_test_4.to_csv(\"X_scaler_test_4.csv\")"
   ]
  },
  {
   "cell_type": "code",
   "execution_count": 3,
   "id": "a8cabfa1-901d-4302-9bf7-a5b03b81c7a2",
   "metadata": {},
   "outputs": [],
   "source": [
    "X_scaler_train_4 = pd.read_csv(\"X_scaler_train_4.csv\")\n",
    "X_scaler_test_4 = pd.read_csv(\"X_scaler_test_4.csv\")"
   ]
  },
  {
   "cell_type": "code",
   "execution_count": 10,
   "id": "955f6d79-1842-43e1-8512-947f23556251",
   "metadata": {},
   "outputs": [],
   "source": [
    "rs = StandardScaler().fit(X_scaler_train_4)\n",
    "X_scaler_train_4_r = rs.transform(X_scaler_train_4)\n",
    "X_scaler_test_4_r = rs.transform(X_scaler_test_4)\n",
    "\n",
    "X_train_r, X_valid, y_train_r, y_valid = train_test_split(X_scaler_train_4_r, y_train, random_state=537, test_size=.20, shuffle=True)\n",
    "X_train_n, X_test, y_train_n, y_test = train_test_split(X_train_r, y_train_r, random_state=537, test_size=.20, shuffle=True)"
   ]
  },
  {
   "cell_type": "code",
   "execution_count": 25,
   "id": "79f59757-fc04-44de-91f0-41830a474aff",
   "metadata": {
    "collapsed": true,
    "jupyter": {
     "outputs_hidden": true
    },
    "tags": []
   },
   "outputs": [
    {
     "name": "stdout",
     "output_type": "stream",
     "text": [
      "Learning rate set to 0.025808\n",
      "0:\tlearn: 0.6244037\ttotal: 80.2ms\tremaining: 1m 20s\n",
      "1:\tlearn: 0.5617486\ttotal: 686ms\tremaining: 5m 42s\n",
      "2:\tlearn: 0.5069019\ttotal: 750ms\tremaining: 4m 9s\n",
      "3:\tlearn: 0.4574675\ttotal: 1.29s\tremaining: 5m 20s\n",
      "4:\tlearn: 0.4150726\ttotal: 1.83s\tremaining: 6m 5s\n",
      "5:\tlearn: 0.3766381\ttotal: 2.38s\tremaining: 6m 33s\n",
      "6:\tlearn: 0.3418643\ttotal: 2.92s\tremaining: 6m 54s\n",
      "7:\tlearn: 0.3104345\ttotal: 3.46s\tremaining: 7m 9s\n",
      "8:\tlearn: 0.2820851\ttotal: 4s\tremaining: 7m 20s\n",
      "9:\tlearn: 0.2578882\ttotal: 4.55s\tremaining: 7m 30s\n",
      "10:\tlearn: 0.2355888\ttotal: 5.11s\tremaining: 7m 39s\n",
      "11:\tlearn: 0.2156173\ttotal: 5.65s\tremaining: 7m 45s\n",
      "12:\tlearn: 0.1986001\ttotal: 6.2s\tremaining: 7m 50s\n",
      "13:\tlearn: 0.1831073\ttotal: 6.74s\tremaining: 7m 54s\n",
      "14:\tlearn: 0.1693967\ttotal: 7.29s\tremaining: 7m 58s\n",
      "15:\tlearn: 0.1558139\ttotal: 7.83s\tremaining: 8m 1s\n",
      "16:\tlearn: 0.1442359\ttotal: 8.37s\tremaining: 8m 4s\n",
      "17:\tlearn: 0.1340123\ttotal: 8.91s\tremaining: 8m 6s\n",
      "18:\tlearn: 0.1246529\ttotal: 9.45s\tremaining: 8m 7s\n",
      "19:\tlearn: 0.1173075\ttotal: 10s\tremaining: 8m 10s\n",
      "20:\tlearn: 0.1106401\ttotal: 10.6s\tremaining: 8m 12s\n",
      "21:\tlearn: 0.1039158\ttotal: 11.1s\tremaining: 8m 13s\n",
      "22:\tlearn: 0.0977768\ttotal: 11.6s\tremaining: 8m 14s\n",
      "23:\tlearn: 0.0918435\ttotal: 12.2s\tremaining: 8m 15s\n",
      "24:\tlearn: 0.0869851\ttotal: 12.7s\tremaining: 8m 16s\n",
      "25:\tlearn: 0.0821269\ttotal: 13.3s\tremaining: 8m 17s\n",
      "26:\tlearn: 0.0785877\ttotal: 13.8s\tremaining: 8m 18s\n",
      "27:\tlearn: 0.0745229\ttotal: 14.4s\tremaining: 8m 18s\n",
      "28:\tlearn: 0.0710551\ttotal: 14.9s\tremaining: 8m 19s\n",
      "29:\tlearn: 0.0677351\ttotal: 15.5s\tremaining: 8m 19s\n",
      "30:\tlearn: 0.0647845\ttotal: 16s\tremaining: 8m 20s\n",
      "31:\tlearn: 0.0621397\ttotal: 16.6s\tremaining: 8m 20s\n",
      "32:\tlearn: 0.0596901\ttotal: 17.1s\tremaining: 8m 21s\n",
      "33:\tlearn: 0.0576482\ttotal: 17.7s\tremaining: 8m 22s\n",
      "34:\tlearn: 0.0554726\ttotal: 18.2s\tremaining: 8m 23s\n",
      "35:\tlearn: 0.0534875\ttotal: 18.8s\tremaining: 8m 23s\n",
      "36:\tlearn: 0.0518246\ttotal: 19.3s\tremaining: 8m 23s\n",
      "37:\tlearn: 0.0502719\ttotal: 19.9s\tremaining: 8m 23s\n",
      "38:\tlearn: 0.0487324\ttotal: 20.5s\tremaining: 8m 23s\n",
      "39:\tlearn: 0.0472522\ttotal: 21s\tremaining: 8m 24s\n",
      "40:\tlearn: 0.0458704\ttotal: 21.6s\tremaining: 8m 24s\n",
      "41:\tlearn: 0.0447254\ttotal: 22.1s\tremaining: 8m 24s\n",
      "42:\tlearn: 0.0435518\ttotal: 22.7s\tremaining: 8m 25s\n",
      "43:\tlearn: 0.0424363\ttotal: 23.2s\tremaining: 8m 24s\n",
      "44:\tlearn: 0.0414005\ttotal: 23.8s\tremaining: 8m 24s\n",
      "45:\tlearn: 0.0403815\ttotal: 24.3s\tremaining: 8m 24s\n",
      "46:\tlearn: 0.0394791\ttotal: 24.9s\tremaining: 8m 24s\n",
      "47:\tlearn: 0.0385861\ttotal: 25.4s\tremaining: 8m 24s\n",
      "48:\tlearn: 0.0377745\ttotal: 26s\tremaining: 8m 24s\n",
      "49:\tlearn: 0.0370742\ttotal: 26.6s\tremaining: 8m 24s\n",
      "50:\tlearn: 0.0363868\ttotal: 27.1s\tremaining: 8m 24s\n",
      "51:\tlearn: 0.0357731\ttotal: 27.7s\tremaining: 8m 24s\n",
      "52:\tlearn: 0.0351277\ttotal: 28.2s\tremaining: 8m 24s\n",
      "53:\tlearn: 0.0345036\ttotal: 28.8s\tremaining: 8m 24s\n",
      "54:\tlearn: 0.0339438\ttotal: 29.3s\tremaining: 8m 23s\n",
      "55:\tlearn: 0.0333602\ttotal: 29.9s\tremaining: 8m 23s\n",
      "56:\tlearn: 0.0328076\ttotal: 30.4s\tremaining: 8m 23s\n",
      "57:\tlearn: 0.0323078\ttotal: 31s\tremaining: 8m 22s\n",
      "58:\tlearn: 0.0318093\ttotal: 31.5s\tremaining: 8m 22s\n",
      "59:\tlearn: 0.0313544\ttotal: 32s\tremaining: 8m 22s\n",
      "60:\tlearn: 0.0309455\ttotal: 32.6s\tremaining: 8m 21s\n",
      "61:\tlearn: 0.0305219\ttotal: 33.2s\tremaining: 8m 21s\n",
      "62:\tlearn: 0.0301263\ttotal: 33.7s\tremaining: 8m 21s\n",
      "63:\tlearn: 0.0297688\ttotal: 34.2s\tremaining: 8m 20s\n",
      "64:\tlearn: 0.0294512\ttotal: 34.8s\tremaining: 8m 21s\n",
      "65:\tlearn: 0.0291024\ttotal: 35.4s\tremaining: 8m 20s\n",
      "66:\tlearn: 0.0287616\ttotal: 35.9s\tremaining: 8m 20s\n",
      "67:\tlearn: 0.0284586\ttotal: 36.5s\tremaining: 8m 19s\n",
      "68:\tlearn: 0.0281719\ttotal: 37s\tremaining: 8m 19s\n",
      "69:\tlearn: 0.0278822\ttotal: 37.6s\tremaining: 8m 19s\n",
      "70:\tlearn: 0.0276047\ttotal: 38.1s\tremaining: 8m 18s\n",
      "71:\tlearn: 0.0273461\ttotal: 38.7s\tremaining: 8m 18s\n",
      "72:\tlearn: 0.0270960\ttotal: 39.2s\tremaining: 8m 17s\n",
      "73:\tlearn: 0.0268344\ttotal: 39.8s\tremaining: 8m 17s\n",
      "74:\tlearn: 0.0266000\ttotal: 40.3s\tremaining: 8m 17s\n",
      "75:\tlearn: 0.0263649\ttotal: 40.9s\tremaining: 8m 16s\n",
      "76:\tlearn: 0.0261342\ttotal: 41.4s\tremaining: 8m 16s\n",
      "77:\tlearn: 0.0259427\ttotal: 42s\tremaining: 8m 16s\n",
      "78:\tlearn: 0.0257339\ttotal: 42.5s\tremaining: 8m 15s\n",
      "79:\tlearn: 0.0255278\ttotal: 43s\tremaining: 8m 15s\n",
      "80:\tlearn: 0.0253655\ttotal: 43.6s\tremaining: 8m 14s\n",
      "81:\tlearn: 0.0251600\ttotal: 44.1s\tremaining: 8m 14s\n",
      "82:\tlearn: 0.0249711\ttotal: 44.7s\tremaining: 8m 13s\n",
      "83:\tlearn: 0.0247735\ttotal: 45.2s\tremaining: 8m 13s\n",
      "84:\tlearn: 0.0245668\ttotal: 45.8s\tremaining: 8m 12s\n",
      "85:\tlearn: 0.0243963\ttotal: 46.3s\tremaining: 8m 12s\n",
      "86:\tlearn: 0.0242295\ttotal: 46.9s\tremaining: 8m 11s\n",
      "87:\tlearn: 0.0240957\ttotal: 47.4s\tremaining: 8m 11s\n",
      "88:\tlearn: 0.0239512\ttotal: 47.9s\tremaining: 8m 10s\n",
      "89:\tlearn: 0.0237682\ttotal: 48.5s\tremaining: 8m 10s\n",
      "90:\tlearn: 0.0235901\ttotal: 49s\tremaining: 8m 9s\n",
      "91:\tlearn: 0.0234244\ttotal: 49.6s\tremaining: 8m 9s\n",
      "92:\tlearn: 0.0232840\ttotal: 50.1s\tremaining: 8m 8s\n",
      "93:\tlearn: 0.0231678\ttotal: 50.7s\tremaining: 8m 8s\n",
      "94:\tlearn: 0.0230477\ttotal: 51.2s\tremaining: 8m 7s\n",
      "95:\tlearn: 0.0229334\ttotal: 51.8s\tremaining: 8m 7s\n",
      "96:\tlearn: 0.0228080\ttotal: 52.3s\tremaining: 8m 6s\n",
      "97:\tlearn: 0.0226598\ttotal: 52.8s\tremaining: 8m 6s\n",
      "98:\tlearn: 0.0225404\ttotal: 53.4s\tremaining: 8m 5s\n",
      "99:\tlearn: 0.0224260\ttotal: 53.9s\tremaining: 8m 5s\n",
      "100:\tlearn: 0.0223050\ttotal: 54.5s\tremaining: 8m 4s\n",
      "101:\tlearn: 0.0222079\ttotal: 55s\tremaining: 8m 4s\n",
      "102:\tlearn: 0.0221207\ttotal: 55.6s\tremaining: 8m 3s\n",
      "103:\tlearn: 0.0220389\ttotal: 56.1s\tremaining: 8m 3s\n",
      "104:\tlearn: 0.0219246\ttotal: 56.6s\tremaining: 8m 2s\n",
      "105:\tlearn: 0.0218380\ttotal: 57.2s\tremaining: 8m 2s\n",
      "106:\tlearn: 0.0217518\ttotal: 57.7s\tremaining: 8m 1s\n",
      "107:\tlearn: 0.0216698\ttotal: 58.3s\tremaining: 8m 1s\n",
      "108:\tlearn: 0.0215804\ttotal: 58.8s\tremaining: 8m\n",
      "109:\tlearn: 0.0215046\ttotal: 59.3s\tremaining: 8m\n",
      "110:\tlearn: 0.0213973\ttotal: 59.9s\tremaining: 7m 59s\n",
      "111:\tlearn: 0.0213201\ttotal: 1m\tremaining: 7m 59s\n",
      "112:\tlearn: 0.0211777\ttotal: 1m\tremaining: 7m 58s\n",
      "113:\tlearn: 0.0210956\ttotal: 1m 1s\tremaining: 7m 58s\n",
      "114:\tlearn: 0.0210308\ttotal: 1m 2s\tremaining: 7m 57s\n",
      "115:\tlearn: 0.0209644\ttotal: 1m 2s\tremaining: 7m 56s\n",
      "116:\tlearn: 0.0208879\ttotal: 1m 3s\tremaining: 7m 56s\n",
      "117:\tlearn: 0.0207627\ttotal: 1m 3s\tremaining: 7m 55s\n",
      "118:\tlearn: 0.0207033\ttotal: 1m 4s\tremaining: 7m 55s\n",
      "119:\tlearn: 0.0206151\ttotal: 1m 4s\tremaining: 7m 54s\n",
      "120:\tlearn: 0.0205282\ttotal: 1m 5s\tremaining: 7m 54s\n",
      "121:\tlearn: 0.0204482\ttotal: 1m 5s\tremaining: 7m 53s\n",
      "122:\tlearn: 0.0203810\ttotal: 1m 6s\tremaining: 7m 53s\n",
      "123:\tlearn: 0.0202979\ttotal: 1m 6s\tremaining: 7m 52s\n",
      "124:\tlearn: 0.0202146\ttotal: 1m 7s\tremaining: 7m 52s\n",
      "125:\tlearn: 0.0201242\ttotal: 1m 8s\tremaining: 7m 51s\n",
      "126:\tlearn: 0.0200152\ttotal: 1m 8s\tremaining: 7m 51s\n",
      "127:\tlearn: 0.0198957\ttotal: 1m 9s\tremaining: 7m 50s\n",
      "128:\tlearn: 0.0198237\ttotal: 1m 9s\tremaining: 7m 50s\n",
      "129:\tlearn: 0.0197156\ttotal: 1m 10s\tremaining: 7m 50s\n",
      "130:\tlearn: 0.0195910\ttotal: 1m 10s\tremaining: 7m 49s\n",
      "131:\tlearn: 0.0194511\ttotal: 1m 11s\tremaining: 7m 49s\n",
      "132:\tlearn: 0.0193900\ttotal: 1m 11s\tremaining: 7m 48s\n",
      "133:\tlearn: 0.0193069\ttotal: 1m 12s\tremaining: 7m 48s\n",
      "134:\tlearn: 0.0192665\ttotal: 1m 12s\tremaining: 7m 47s\n",
      "135:\tlearn: 0.0191659\ttotal: 1m 13s\tremaining: 7m 47s\n",
      "136:\tlearn: 0.0190353\ttotal: 1m 14s\tremaining: 7m 46s\n",
      "137:\tlearn: 0.0189533\ttotal: 1m 14s\tremaining: 7m 46s\n",
      "138:\tlearn: 0.0188662\ttotal: 1m 15s\tremaining: 7m 45s\n",
      "139:\tlearn: 0.0188064\ttotal: 1m 15s\tremaining: 7m 45s\n",
      "140:\tlearn: 0.0187635\ttotal: 1m 16s\tremaining: 7m 44s\n",
      "141:\tlearn: 0.0186689\ttotal: 1m 16s\tremaining: 7m 44s\n",
      "142:\tlearn: 0.0186192\ttotal: 1m 17s\tremaining: 7m 43s\n",
      "143:\tlearn: 0.0184960\ttotal: 1m 17s\tremaining: 7m 43s\n",
      "144:\tlearn: 0.0184340\ttotal: 1m 18s\tremaining: 7m 42s\n",
      "145:\tlearn: 0.0183185\ttotal: 1m 18s\tremaining: 7m 42s\n",
      "146:\tlearn: 0.0182251\ttotal: 1m 19s\tremaining: 7m 41s\n",
      "147:\tlearn: 0.0181764\ttotal: 1m 20s\tremaining: 7m 40s\n",
      "148:\tlearn: 0.0180722\ttotal: 1m 20s\tremaining: 7m 40s\n",
      "149:\tlearn: 0.0180177\ttotal: 1m 21s\tremaining: 7m 39s\n",
      "150:\tlearn: 0.0179209\ttotal: 1m 21s\tremaining: 7m 39s\n",
      "151:\tlearn: 0.0177632\ttotal: 1m 22s\tremaining: 7m 38s\n",
      "152:\tlearn: 0.0176818\ttotal: 1m 22s\tremaining: 7m 38s\n",
      "153:\tlearn: 0.0175999\ttotal: 1m 23s\tremaining: 7m 37s\n",
      "154:\tlearn: 0.0175079\ttotal: 1m 23s\tremaining: 7m 37s\n",
      "155:\tlearn: 0.0174058\ttotal: 1m 24s\tremaining: 7m 36s\n",
      "156:\tlearn: 0.0173199\ttotal: 1m 24s\tremaining: 7m 36s\n",
      "157:\tlearn: 0.0172491\ttotal: 1m 25s\tremaining: 7m 35s\n",
      "158:\tlearn: 0.0171820\ttotal: 1m 26s\tremaining: 7m 35s\n",
      "159:\tlearn: 0.0170546\ttotal: 1m 26s\tremaining: 7m 34s\n",
      "160:\tlearn: 0.0169972\ttotal: 1m 27s\tremaining: 7m 34s\n",
      "161:\tlearn: 0.0169097\ttotal: 1m 27s\tremaining: 7m 33s\n",
      "162:\tlearn: 0.0168370\ttotal: 1m 28s\tremaining: 7m 33s\n",
      "163:\tlearn: 0.0167742\ttotal: 1m 28s\tremaining: 7m 32s\n",
      "164:\tlearn: 0.0167099\ttotal: 1m 29s\tremaining: 7m 32s\n",
      "165:\tlearn: 0.0166766\ttotal: 1m 29s\tremaining: 7m 31s\n",
      "166:\tlearn: 0.0166201\ttotal: 1m 30s\tremaining: 7m 31s\n",
      "167:\tlearn: 0.0165549\ttotal: 1m 30s\tremaining: 7m 30s\n",
      "168:\tlearn: 0.0165085\ttotal: 1m 31s\tremaining: 7m 30s\n",
      "169:\tlearn: 0.0164294\ttotal: 1m 32s\tremaining: 7m 29s\n",
      "170:\tlearn: 0.0163455\ttotal: 1m 32s\tremaining: 7m 29s\n",
      "171:\tlearn: 0.0162520\ttotal: 1m 33s\tremaining: 7m 28s\n",
      "172:\tlearn: 0.0162042\ttotal: 1m 33s\tremaining: 7m 28s\n",
      "173:\tlearn: 0.0161729\ttotal: 1m 34s\tremaining: 7m 27s\n",
      "174:\tlearn: 0.0161204\ttotal: 1m 34s\tremaining: 7m 26s\n",
      "175:\tlearn: 0.0160850\ttotal: 1m 35s\tremaining: 7m 26s\n",
      "176:\tlearn: 0.0159939\ttotal: 1m 35s\tremaining: 7m 25s\n",
      "177:\tlearn: 0.0159555\ttotal: 1m 36s\tremaining: 7m 25s\n",
      "178:\tlearn: 0.0159163\ttotal: 1m 36s\tremaining: 7m 24s\n",
      "179:\tlearn: 0.0158781\ttotal: 1m 37s\tremaining: 7m 24s\n",
      "180:\tlearn: 0.0158506\ttotal: 1m 38s\tremaining: 7m 23s\n",
      "181:\tlearn: 0.0157964\ttotal: 1m 38s\tremaining: 7m 23s\n",
      "182:\tlearn: 0.0157422\ttotal: 1m 39s\tremaining: 7m 22s\n",
      "183:\tlearn: 0.0156533\ttotal: 1m 39s\tremaining: 7m 22s\n",
      "184:\tlearn: 0.0155580\ttotal: 1m 40s\tremaining: 7m 21s\n",
      "185:\tlearn: 0.0154973\ttotal: 1m 40s\tremaining: 7m 21s\n",
      "186:\tlearn: 0.0154263\ttotal: 1m 41s\tremaining: 7m 20s\n",
      "187:\tlearn: 0.0153513\ttotal: 1m 41s\tremaining: 7m 19s\n",
      "188:\tlearn: 0.0153012\ttotal: 1m 42s\tremaining: 7m 19s\n",
      "189:\tlearn: 0.0152066\ttotal: 1m 42s\tremaining: 7m 18s\n",
      "190:\tlearn: 0.0151695\ttotal: 1m 43s\tremaining: 7m 18s\n",
      "191:\tlearn: 0.0151198\ttotal: 1m 44s\tremaining: 7m 17s\n",
      "192:\tlearn: 0.0150442\ttotal: 1m 44s\tremaining: 7m 17s\n",
      "193:\tlearn: 0.0149412\ttotal: 1m 45s\tremaining: 7m 16s\n",
      "194:\tlearn: 0.0149057\ttotal: 1m 45s\tremaining: 7m 16s\n",
      "195:\tlearn: 0.0148034\ttotal: 1m 46s\tremaining: 7m 15s\n",
      "196:\tlearn: 0.0147135\ttotal: 1m 46s\tremaining: 7m 15s\n",
      "197:\tlearn: 0.0146759\ttotal: 1m 47s\tremaining: 7m 14s\n",
      "198:\tlearn: 0.0145912\ttotal: 1m 47s\tremaining: 7m 14s\n",
      "199:\tlearn: 0.0145276\ttotal: 1m 48s\tremaining: 7m 13s\n",
      "200:\tlearn: 0.0144236\ttotal: 1m 48s\tremaining: 7m 13s\n",
      "201:\tlearn: 0.0143433\ttotal: 1m 49s\tremaining: 7m 12s\n",
      "202:\tlearn: 0.0142903\ttotal: 1m 50s\tremaining: 7m 12s\n",
      "203:\tlearn: 0.0142552\ttotal: 1m 50s\tremaining: 7m 11s\n",
      "204:\tlearn: 0.0142243\ttotal: 1m 51s\tremaining: 7m 11s\n",
      "205:\tlearn: 0.0141775\ttotal: 1m 51s\tremaining: 7m 10s\n",
      "206:\tlearn: 0.0141236\ttotal: 1m 52s\tremaining: 7m 9s\n",
      "207:\tlearn: 0.0140634\ttotal: 1m 52s\tremaining: 7m 9s\n",
      "208:\tlearn: 0.0140299\ttotal: 1m 53s\tremaining: 7m 8s\n",
      "209:\tlearn: 0.0139824\ttotal: 1m 53s\tremaining: 7m 8s\n",
      "210:\tlearn: 0.0139095\ttotal: 1m 54s\tremaining: 7m 7s\n",
      "211:\tlearn: 0.0138705\ttotal: 1m 54s\tremaining: 7m 7s\n",
      "212:\tlearn: 0.0137777\ttotal: 1m 55s\tremaining: 7m 6s\n",
      "213:\tlearn: 0.0137345\ttotal: 1m 56s\tremaining: 7m 6s\n",
      "214:\tlearn: 0.0137015\ttotal: 1m 56s\tremaining: 7m 5s\n",
      "215:\tlearn: 0.0136501\ttotal: 1m 57s\tremaining: 7m 5s\n",
      "216:\tlearn: 0.0135753\ttotal: 1m 57s\tremaining: 7m 4s\n",
      "217:\tlearn: 0.0135222\ttotal: 1m 58s\tremaining: 7m 4s\n",
      "218:\tlearn: 0.0134403\ttotal: 1m 58s\tremaining: 7m 3s\n",
      "219:\tlearn: 0.0133966\ttotal: 1m 59s\tremaining: 7m 3s\n",
      "220:\tlearn: 0.0132879\ttotal: 1m 59s\tremaining: 7m 2s\n",
      "221:\tlearn: 0.0132583\ttotal: 2m\tremaining: 7m 2s\n",
      "222:\tlearn: 0.0132212\ttotal: 2m\tremaining: 7m 1s\n",
      "223:\tlearn: 0.0131659\ttotal: 2m 1s\tremaining: 7m\n",
      "224:\tlearn: 0.0131138\ttotal: 2m 2s\tremaining: 7m\n",
      "225:\tlearn: 0.0130425\ttotal: 2m 2s\tremaining: 6m 59s\n",
      "226:\tlearn: 0.0129989\ttotal: 2m 3s\tremaining: 6m 59s\n",
      "227:\tlearn: 0.0129394\ttotal: 2m 3s\tremaining: 6m 58s\n",
      "228:\tlearn: 0.0128801\ttotal: 2m 4s\tremaining: 6m 58s\n",
      "229:\tlearn: 0.0128231\ttotal: 2m 4s\tremaining: 6m 57s\n",
      "230:\tlearn: 0.0127633\ttotal: 2m 5s\tremaining: 6m 57s\n",
      "231:\tlearn: 0.0127288\ttotal: 2m 5s\tremaining: 6m 56s\n",
      "232:\tlearn: 0.0126942\ttotal: 2m 6s\tremaining: 6m 56s\n",
      "233:\tlearn: 0.0126353\ttotal: 2m 6s\tremaining: 6m 55s\n",
      "234:\tlearn: 0.0125915\ttotal: 2m 7s\tremaining: 6m 55s\n",
      "235:\tlearn: 0.0125464\ttotal: 2m 8s\tremaining: 6m 54s\n",
      "236:\tlearn: 0.0124811\ttotal: 2m 8s\tremaining: 6m 54s\n",
      "237:\tlearn: 0.0124346\ttotal: 2m 9s\tremaining: 6m 53s\n",
      "238:\tlearn: 0.0123870\ttotal: 2m 9s\tremaining: 6m 53s\n",
      "239:\tlearn: 0.0123386\ttotal: 2m 10s\tremaining: 6m 52s\n",
      "240:\tlearn: 0.0122869\ttotal: 2m 10s\tremaining: 6m 52s\n",
      "241:\tlearn: 0.0122089\ttotal: 2m 11s\tremaining: 6m 51s\n",
      "242:\tlearn: 0.0121795\ttotal: 2m 11s\tremaining: 6m 51s\n",
      "243:\tlearn: 0.0121379\ttotal: 2m 12s\tremaining: 6m 50s\n",
      "244:\tlearn: 0.0121024\ttotal: 2m 13s\tremaining: 6m 49s\n",
      "245:\tlearn: 0.0120761\ttotal: 2m 13s\tremaining: 6m 49s\n",
      "246:\tlearn: 0.0120497\ttotal: 2m 14s\tremaining: 6m 48s\n",
      "247:\tlearn: 0.0120212\ttotal: 2m 14s\tremaining: 6m 48s\n",
      "248:\tlearn: 0.0119772\ttotal: 2m 15s\tremaining: 6m 47s\n",
      "249:\tlearn: 0.0119151\ttotal: 2m 15s\tremaining: 6m 47s\n",
      "250:\tlearn: 0.0118859\ttotal: 2m 16s\tremaining: 6m 46s\n",
      "251:\tlearn: 0.0118624\ttotal: 2m 16s\tremaining: 6m 46s\n",
      "252:\tlearn: 0.0117951\ttotal: 2m 17s\tremaining: 6m 45s\n",
      "253:\tlearn: 0.0117597\ttotal: 2m 18s\tremaining: 6m 45s\n",
      "254:\tlearn: 0.0116946\ttotal: 2m 18s\tremaining: 6m 44s\n",
      "255:\tlearn: 0.0116687\ttotal: 2m 19s\tremaining: 6m 44s\n",
      "256:\tlearn: 0.0116067\ttotal: 2m 19s\tremaining: 6m 44s\n",
      "257:\tlearn: 0.0115316\ttotal: 2m 20s\tremaining: 6m 43s\n",
      "258:\tlearn: 0.0114982\ttotal: 2m 20s\tremaining: 6m 43s\n",
      "259:\tlearn: 0.0114419\ttotal: 2m 21s\tremaining: 6m 42s\n",
      "260:\tlearn: 0.0114106\ttotal: 2m 22s\tremaining: 6m 42s\n",
      "261:\tlearn: 0.0113629\ttotal: 2m 22s\tremaining: 6m 41s\n",
      "262:\tlearn: 0.0112732\ttotal: 2m 23s\tremaining: 6m 41s\n",
      "263:\tlearn: 0.0112469\ttotal: 2m 23s\tremaining: 6m 40s\n",
      "264:\tlearn: 0.0111939\ttotal: 2m 24s\tremaining: 6m 40s\n",
      "265:\tlearn: 0.0111630\ttotal: 2m 24s\tremaining: 6m 39s\n",
      "266:\tlearn: 0.0111359\ttotal: 2m 25s\tremaining: 6m 39s\n",
      "267:\tlearn: 0.0111156\ttotal: 2m 25s\tremaining: 6m 38s\n",
      "268:\tlearn: 0.0110484\ttotal: 2m 26s\tremaining: 6m 38s\n",
      "269:\tlearn: 0.0110011\ttotal: 2m 27s\tremaining: 6m 37s\n",
      "270:\tlearn: 0.0109618\ttotal: 2m 27s\tremaining: 6m 37s\n",
      "271:\tlearn: 0.0109165\ttotal: 2m 28s\tremaining: 6m 36s\n",
      "272:\tlearn: 0.0108807\ttotal: 2m 28s\tremaining: 6m 35s\n",
      "273:\tlearn: 0.0108489\ttotal: 2m 29s\tremaining: 6m 35s\n",
      "274:\tlearn: 0.0108047\ttotal: 2m 29s\tremaining: 6m 34s\n",
      "275:\tlearn: 0.0107775\ttotal: 2m 30s\tremaining: 6m 34s\n",
      "276:\tlearn: 0.0107101\ttotal: 2m 30s\tremaining: 6m 33s\n",
      "277:\tlearn: 0.0106424\ttotal: 2m 31s\tremaining: 6m 33s\n",
      "278:\tlearn: 0.0106146\ttotal: 2m 31s\tremaining: 6m 32s\n",
      "279:\tlearn: 0.0105776\ttotal: 2m 32s\tremaining: 6m 32s\n",
      "280:\tlearn: 0.0105271\ttotal: 2m 33s\tremaining: 6m 31s\n",
      "281:\tlearn: 0.0104998\ttotal: 2m 33s\tremaining: 6m 31s\n",
      "282:\tlearn: 0.0104788\ttotal: 2m 34s\tremaining: 6m 30s\n",
      "283:\tlearn: 0.0104486\ttotal: 2m 34s\tremaining: 6m 30s\n",
      "284:\tlearn: 0.0104141\ttotal: 2m 35s\tremaining: 6m 29s\n",
      "285:\tlearn: 0.0103732\ttotal: 2m 35s\tremaining: 6m 28s\n",
      "286:\tlearn: 0.0103401\ttotal: 2m 36s\tremaining: 6m 28s\n",
      "287:\tlearn: 0.0103157\ttotal: 2m 36s\tremaining: 6m 27s\n",
      "288:\tlearn: 0.0102588\ttotal: 2m 37s\tremaining: 6m 27s\n",
      "289:\tlearn: 0.0102369\ttotal: 2m 38s\tremaining: 6m 26s\n",
      "290:\tlearn: 0.0101940\ttotal: 2m 38s\tremaining: 6m 26s\n",
      "291:\tlearn: 0.0101603\ttotal: 2m 39s\tremaining: 6m 25s\n",
      "292:\tlearn: 0.0101349\ttotal: 2m 39s\tremaining: 6m 25s\n",
      "293:\tlearn: 0.0100864\ttotal: 2m 40s\tremaining: 6m 24s\n",
      "294:\tlearn: 0.0100593\ttotal: 2m 40s\tremaining: 6m 24s\n",
      "295:\tlearn: 0.0100254\ttotal: 2m 41s\tremaining: 6m 23s\n",
      "296:\tlearn: 0.0099680\ttotal: 2m 41s\tremaining: 6m 23s\n",
      "297:\tlearn: 0.0099258\ttotal: 2m 42s\tremaining: 6m 22s\n",
      "298:\tlearn: 0.0098644\ttotal: 2m 43s\tremaining: 6m 22s\n",
      "299:\tlearn: 0.0098441\ttotal: 2m 43s\tremaining: 6m 21s\n",
      "300:\tlearn: 0.0098175\ttotal: 2m 44s\tremaining: 6m 21s\n",
      "301:\tlearn: 0.0097778\ttotal: 2m 44s\tremaining: 6m 20s\n",
      "302:\tlearn: 0.0097498\ttotal: 2m 45s\tremaining: 6m 20s\n",
      "303:\tlearn: 0.0097082\ttotal: 2m 45s\tremaining: 6m 19s\n",
      "304:\tlearn: 0.0096828\ttotal: 2m 46s\tremaining: 6m 18s\n",
      "305:\tlearn: 0.0096710\ttotal: 2m 46s\tremaining: 6m 18s\n",
      "306:\tlearn: 0.0096289\ttotal: 2m 47s\tremaining: 6m 17s\n",
      "307:\tlearn: 0.0096101\ttotal: 2m 47s\tremaining: 6m 17s\n",
      "308:\tlearn: 0.0095972\ttotal: 2m 48s\tremaining: 6m 16s\n",
      "309:\tlearn: 0.0095248\ttotal: 2m 49s\tremaining: 6m 16s\n",
      "310:\tlearn: 0.0094931\ttotal: 2m 49s\tremaining: 6m 15s\n",
      "311:\tlearn: 0.0094679\ttotal: 2m 50s\tremaining: 6m 15s\n",
      "312:\tlearn: 0.0094108\ttotal: 2m 50s\tremaining: 6m 14s\n",
      "313:\tlearn: 0.0093654\ttotal: 2m 51s\tremaining: 6m 14s\n",
      "314:\tlearn: 0.0093470\ttotal: 2m 51s\tremaining: 6m 13s\n",
      "315:\tlearn: 0.0093215\ttotal: 2m 52s\tremaining: 6m 13s\n",
      "316:\tlearn: 0.0092667\ttotal: 2m 52s\tremaining: 6m 12s\n",
      "317:\tlearn: 0.0092287\ttotal: 2m 53s\tremaining: 6m 12s\n",
      "318:\tlearn: 0.0091989\ttotal: 2m 54s\tremaining: 6m 11s\n",
      "319:\tlearn: 0.0091799\ttotal: 2m 54s\tremaining: 6m 11s\n",
      "320:\tlearn: 0.0091520\ttotal: 2m 55s\tremaining: 6m 10s\n",
      "321:\tlearn: 0.0091379\ttotal: 2m 55s\tremaining: 6m 9s\n",
      "322:\tlearn: 0.0091178\ttotal: 2m 56s\tremaining: 6m 9s\n",
      "323:\tlearn: 0.0090876\ttotal: 2m 56s\tremaining: 6m 8s\n",
      "324:\tlearn: 0.0090411\ttotal: 2m 57s\tremaining: 6m 8s\n",
      "325:\tlearn: 0.0090148\ttotal: 2m 57s\tremaining: 6m 7s\n",
      "326:\tlearn: 0.0089776\ttotal: 2m 58s\tremaining: 6m 7s\n",
      "327:\tlearn: 0.0089541\ttotal: 2m 58s\tremaining: 6m 6s\n",
      "328:\tlearn: 0.0089017\ttotal: 2m 59s\tremaining: 6m 6s\n",
      "329:\tlearn: 0.0088598\ttotal: 3m\tremaining: 6m 5s\n",
      "330:\tlearn: 0.0088262\ttotal: 3m\tremaining: 6m 5s\n",
      "331:\tlearn: 0.0087806\ttotal: 3m 1s\tremaining: 6m 4s\n",
      "332:\tlearn: 0.0087477\ttotal: 3m 1s\tremaining: 6m 3s\n",
      "333:\tlearn: 0.0087291\ttotal: 3m 2s\tremaining: 6m 3s\n",
      "334:\tlearn: 0.0086989\ttotal: 3m 2s\tremaining: 6m 2s\n",
      "335:\tlearn: 0.0086785\ttotal: 3m 3s\tremaining: 6m 2s\n",
      "336:\tlearn: 0.0086364\ttotal: 3m 3s\tremaining: 6m 1s\n",
      "337:\tlearn: 0.0086083\ttotal: 3m 4s\tremaining: 6m 1s\n",
      "338:\tlearn: 0.0085830\ttotal: 3m 4s\tremaining: 6m\n",
      "339:\tlearn: 0.0085655\ttotal: 3m 5s\tremaining: 6m\n",
      "340:\tlearn: 0.0085338\ttotal: 3m 6s\tremaining: 5m 59s\n",
      "341:\tlearn: 0.0085149\ttotal: 3m 6s\tremaining: 5m 58s\n",
      "342:\tlearn: 0.0084994\ttotal: 3m 7s\tremaining: 5m 58s\n",
      "343:\tlearn: 0.0084570\ttotal: 3m 7s\tremaining: 5m 57s\n",
      "344:\tlearn: 0.0084379\ttotal: 3m 8s\tremaining: 5m 57s\n",
      "345:\tlearn: 0.0083770\ttotal: 3m 8s\tremaining: 5m 56s\n",
      "346:\tlearn: 0.0083492\ttotal: 3m 9s\tremaining: 5m 56s\n",
      "347:\tlearn: 0.0083205\ttotal: 3m 9s\tremaining: 5m 55s\n",
      "348:\tlearn: 0.0082932\ttotal: 3m 10s\tremaining: 5m 54s\n",
      "349:\tlearn: 0.0082376\ttotal: 3m 10s\tremaining: 5m 54s\n",
      "350:\tlearn: 0.0082246\ttotal: 3m 11s\tremaining: 5m 53s\n",
      "351:\tlearn: 0.0081997\ttotal: 3m 11s\tremaining: 5m 53s\n",
      "352:\tlearn: 0.0081615\ttotal: 3m 12s\tremaining: 5m 52s\n",
      "353:\tlearn: 0.0081451\ttotal: 3m 13s\tremaining: 5m 52s\n",
      "354:\tlearn: 0.0081258\ttotal: 3m 13s\tremaining: 5m 51s\n",
      "355:\tlearn: 0.0080994\ttotal: 3m 14s\tremaining: 5m 51s\n",
      "356:\tlearn: 0.0080534\ttotal: 3m 14s\tremaining: 5m 50s\n",
      "357:\tlearn: 0.0080346\ttotal: 3m 15s\tremaining: 5m 50s\n",
      "358:\tlearn: 0.0080177\ttotal: 3m 15s\tremaining: 5m 49s\n",
      "359:\tlearn: 0.0079833\ttotal: 3m 16s\tremaining: 5m 48s\n",
      "360:\tlearn: 0.0079715\ttotal: 3m 16s\tremaining: 5m 48s\n",
      "361:\tlearn: 0.0079420\ttotal: 3m 17s\tremaining: 5m 47s\n",
      "362:\tlearn: 0.0079183\ttotal: 3m 17s\tremaining: 5m 47s\n",
      "363:\tlearn: 0.0078741\ttotal: 3m 18s\tremaining: 5m 46s\n",
      "364:\tlearn: 0.0078486\ttotal: 3m 18s\tremaining: 5m 46s\n",
      "365:\tlearn: 0.0078123\ttotal: 3m 19s\tremaining: 5m 45s\n",
      "366:\tlearn: 0.0077699\ttotal: 3m 20s\tremaining: 5m 45s\n",
      "367:\tlearn: 0.0077315\ttotal: 3m 20s\tremaining: 5m 44s\n",
      "368:\tlearn: 0.0076980\ttotal: 3m 21s\tremaining: 5m 44s\n",
      "369:\tlearn: 0.0076794\ttotal: 3m 21s\tremaining: 5m 43s\n",
      "370:\tlearn: 0.0076602\ttotal: 3m 22s\tremaining: 5m 42s\n",
      "371:\tlearn: 0.0076381\ttotal: 3m 22s\tremaining: 5m 42s\n",
      "372:\tlearn: 0.0076065\ttotal: 3m 23s\tremaining: 5m 41s\n",
      "373:\tlearn: 0.0075873\ttotal: 3m 23s\tremaining: 5m 41s\n",
      "374:\tlearn: 0.0075608\ttotal: 3m 24s\tremaining: 5m 40s\n",
      "375:\tlearn: 0.0075475\ttotal: 3m 24s\tremaining: 5m 40s\n",
      "376:\tlearn: 0.0075319\ttotal: 3m 25s\tremaining: 5m 39s\n",
      "377:\tlearn: 0.0075090\ttotal: 3m 26s\tremaining: 5m 38s\n",
      "378:\tlearn: 0.0074865\ttotal: 3m 26s\tremaining: 5m 38s\n",
      "379:\tlearn: 0.0074660\ttotal: 3m 27s\tremaining: 5m 37s\n",
      "380:\tlearn: 0.0074373\ttotal: 3m 27s\tremaining: 5m 37s\n",
      "381:\tlearn: 0.0074056\ttotal: 3m 28s\tremaining: 5m 36s\n",
      "382:\tlearn: 0.0073738\ttotal: 3m 28s\tremaining: 5m 36s\n",
      "383:\tlearn: 0.0073554\ttotal: 3m 29s\tremaining: 5m 35s\n",
      "384:\tlearn: 0.0073371\ttotal: 3m 29s\tremaining: 5m 35s\n",
      "385:\tlearn: 0.0072988\ttotal: 3m 30s\tremaining: 5m 34s\n",
      "386:\tlearn: 0.0072796\ttotal: 3m 30s\tremaining: 5m 33s\n",
      "387:\tlearn: 0.0072527\ttotal: 3m 31s\tremaining: 5m 33s\n",
      "388:\tlearn: 0.0072360\ttotal: 3m 31s\tremaining: 5m 32s\n",
      "389:\tlearn: 0.0072198\ttotal: 3m 32s\tremaining: 5m 32s\n",
      "390:\tlearn: 0.0072034\ttotal: 3m 32s\tremaining: 5m 31s\n",
      "391:\tlearn: 0.0071814\ttotal: 3m 33s\tremaining: 5m 31s\n",
      "392:\tlearn: 0.0071521\ttotal: 3m 34s\tremaining: 5m 30s\n",
      "393:\tlearn: 0.0071225\ttotal: 3m 34s\tremaining: 5m 30s\n",
      "394:\tlearn: 0.0070987\ttotal: 3m 35s\tremaining: 5m 29s\n",
      "395:\tlearn: 0.0070768\ttotal: 3m 35s\tremaining: 5m 28s\n",
      "396:\tlearn: 0.0070606\ttotal: 3m 36s\tremaining: 5m 28s\n",
      "397:\tlearn: 0.0070357\ttotal: 3m 36s\tremaining: 5m 27s\n",
      "398:\tlearn: 0.0070217\ttotal: 3m 37s\tremaining: 5m 27s\n",
      "399:\tlearn: 0.0070024\ttotal: 3m 37s\tremaining: 5m 26s\n",
      "400:\tlearn: 0.0069726\ttotal: 3m 38s\tremaining: 5m 26s\n",
      "401:\tlearn: 0.0069378\ttotal: 3m 38s\tremaining: 5m 25s\n",
      "402:\tlearn: 0.0069256\ttotal: 3m 39s\tremaining: 5m 25s\n",
      "403:\tlearn: 0.0069136\ttotal: 3m 40s\tremaining: 5m 24s\n",
      "404:\tlearn: 0.0068968\ttotal: 3m 40s\tremaining: 5m 24s\n",
      "405:\tlearn: 0.0068743\ttotal: 3m 41s\tremaining: 5m 23s\n",
      "406:\tlearn: 0.0068563\ttotal: 3m 41s\tremaining: 5m 23s\n",
      "407:\tlearn: 0.0068376\ttotal: 3m 42s\tremaining: 5m 22s\n",
      "408:\tlearn: 0.0067992\ttotal: 3m 42s\tremaining: 5m 21s\n",
      "409:\tlearn: 0.0067886\ttotal: 3m 43s\tremaining: 5m 21s\n",
      "410:\tlearn: 0.0067753\ttotal: 3m 43s\tremaining: 5m 20s\n",
      "411:\tlearn: 0.0067558\ttotal: 3m 44s\tremaining: 5m 20s\n",
      "412:\tlearn: 0.0067421\ttotal: 3m 45s\tremaining: 5m 19s\n",
      "413:\tlearn: 0.0066949\ttotal: 3m 45s\tremaining: 5m 19s\n",
      "414:\tlearn: 0.0066772\ttotal: 3m 46s\tremaining: 5m 18s\n",
      "415:\tlearn: 0.0066611\ttotal: 3m 46s\tremaining: 5m 18s\n",
      "416:\tlearn: 0.0066485\ttotal: 3m 47s\tremaining: 5m 17s\n",
      "417:\tlearn: 0.0066283\ttotal: 3m 47s\tremaining: 5m 17s\n",
      "418:\tlearn: 0.0065849\ttotal: 3m 48s\tremaining: 5m 16s\n",
      "419:\tlearn: 0.0065740\ttotal: 3m 48s\tremaining: 5m 16s\n",
      "420:\tlearn: 0.0065626\ttotal: 3m 49s\tremaining: 5m 15s\n",
      "421:\tlearn: 0.0065361\ttotal: 3m 49s\tremaining: 5m 14s\n",
      "422:\tlearn: 0.0065177\ttotal: 3m 50s\tremaining: 5m 14s\n",
      "423:\tlearn: 0.0064876\ttotal: 3m 51s\tremaining: 5m 13s\n",
      "424:\tlearn: 0.0064582\ttotal: 3m 51s\tremaining: 5m 13s\n",
      "425:\tlearn: 0.0064464\ttotal: 3m 52s\tremaining: 5m 12s\n",
      "426:\tlearn: 0.0064279\ttotal: 3m 52s\tremaining: 5m 12s\n",
      "427:\tlearn: 0.0064160\ttotal: 3m 53s\tremaining: 5m 11s\n",
      "428:\tlearn: 0.0063914\ttotal: 3m 53s\tremaining: 5m 11s\n",
      "429:\tlearn: 0.0063708\ttotal: 3m 54s\tremaining: 5m 10s\n",
      "430:\tlearn: 0.0063462\ttotal: 3m 54s\tremaining: 5m 10s\n",
      "431:\tlearn: 0.0063328\ttotal: 3m 55s\tremaining: 5m 9s\n",
      "432:\tlearn: 0.0063139\ttotal: 3m 55s\tremaining: 5m 9s\n",
      "433:\tlearn: 0.0063012\ttotal: 3m 56s\tremaining: 5m 8s\n",
      "434:\tlearn: 0.0062699\ttotal: 3m 57s\tremaining: 5m 7s\n",
      "435:\tlearn: 0.0062459\ttotal: 3m 57s\tremaining: 5m 7s\n",
      "436:\tlearn: 0.0062205\ttotal: 3m 58s\tremaining: 5m 6s\n",
      "437:\tlearn: 0.0061997\ttotal: 3m 58s\tremaining: 5m 6s\n",
      "438:\tlearn: 0.0061835\ttotal: 3m 59s\tremaining: 5m 5s\n",
      "439:\tlearn: 0.0061630\ttotal: 3m 59s\tremaining: 5m 5s\n",
      "440:\tlearn: 0.0061535\ttotal: 4m\tremaining: 5m 4s\n",
      "441:\tlearn: 0.0061235\ttotal: 4m\tremaining: 5m 4s\n",
      "442:\tlearn: 0.0061030\ttotal: 4m 1s\tremaining: 5m 3s\n",
      "443:\tlearn: 0.0060943\ttotal: 4m 2s\tremaining: 5m 3s\n",
      "444:\tlearn: 0.0060758\ttotal: 4m 2s\tremaining: 5m 2s\n",
      "445:\tlearn: 0.0060488\ttotal: 4m 3s\tremaining: 5m 2s\n",
      "446:\tlearn: 0.0060205\ttotal: 4m 3s\tremaining: 5m 1s\n",
      "447:\tlearn: 0.0060100\ttotal: 4m 4s\tremaining: 5m 1s\n",
      "448:\tlearn: 0.0059763\ttotal: 4m 4s\tremaining: 5m\n",
      "449:\tlearn: 0.0059577\ttotal: 4m 5s\tremaining: 4m 59s\n",
      "450:\tlearn: 0.0059480\ttotal: 4m 5s\tremaining: 4m 59s\n",
      "451:\tlearn: 0.0059268\ttotal: 4m 6s\tremaining: 4m 58s\n",
      "452:\tlearn: 0.0059013\ttotal: 4m 7s\tremaining: 4m 58s\n",
      "453:\tlearn: 0.0058866\ttotal: 4m 7s\tremaining: 4m 57s\n",
      "454:\tlearn: 0.0058602\ttotal: 4m 8s\tremaining: 4m 57s\n",
      "455:\tlearn: 0.0058480\ttotal: 4m 8s\tremaining: 4m 56s\n",
      "456:\tlearn: 0.0058330\ttotal: 4m 9s\tremaining: 4m 56s\n",
      "457:\tlearn: 0.0058253\ttotal: 4m 9s\tremaining: 4m 55s\n",
      "458:\tlearn: 0.0058112\ttotal: 4m 10s\tremaining: 4m 55s\n",
      "459:\tlearn: 0.0057909\ttotal: 4m 10s\tremaining: 4m 54s\n",
      "460:\tlearn: 0.0057791\ttotal: 4m 11s\tremaining: 4m 54s\n",
      "461:\tlearn: 0.0057705\ttotal: 4m 11s\tremaining: 4m 53s\n",
      "462:\tlearn: 0.0057592\ttotal: 4m 12s\tremaining: 4m 52s\n",
      "463:\tlearn: 0.0057397\ttotal: 4m 13s\tremaining: 4m 52s\n",
      "464:\tlearn: 0.0057276\ttotal: 4m 13s\tremaining: 4m 51s\n",
      "465:\tlearn: 0.0057065\ttotal: 4m 14s\tremaining: 4m 51s\n",
      "466:\tlearn: 0.0056896\ttotal: 4m 14s\tremaining: 4m 50s\n",
      "467:\tlearn: 0.0056694\ttotal: 4m 15s\tremaining: 4m 50s\n",
      "468:\tlearn: 0.0056567\ttotal: 4m 15s\tremaining: 4m 49s\n",
      "469:\tlearn: 0.0056437\ttotal: 4m 16s\tremaining: 4m 49s\n",
      "470:\tlearn: 0.0056252\ttotal: 4m 16s\tremaining: 4m 48s\n",
      "471:\tlearn: 0.0056072\ttotal: 4m 17s\tremaining: 4m 47s\n",
      "472:\tlearn: 0.0055940\ttotal: 4m 17s\tremaining: 4m 47s\n",
      "473:\tlearn: 0.0055794\ttotal: 4m 18s\tremaining: 4m 46s\n",
      "474:\tlearn: 0.0055573\ttotal: 4m 19s\tremaining: 4m 46s\n",
      "475:\tlearn: 0.0055461\ttotal: 4m 19s\tremaining: 4m 45s\n",
      "476:\tlearn: 0.0055307\ttotal: 4m 20s\tremaining: 4m 45s\n",
      "477:\tlearn: 0.0055131\ttotal: 4m 20s\tremaining: 4m 44s\n",
      "478:\tlearn: 0.0054884\ttotal: 4m 21s\tremaining: 4m 44s\n",
      "479:\tlearn: 0.0054756\ttotal: 4m 21s\tremaining: 4m 43s\n",
      "480:\tlearn: 0.0054657\ttotal: 4m 22s\tremaining: 4m 42s\n",
      "481:\tlearn: 0.0054478\ttotal: 4m 22s\tremaining: 4m 42s\n",
      "482:\tlearn: 0.0054283\ttotal: 4m 23s\tremaining: 4m 41s\n",
      "483:\tlearn: 0.0053976\ttotal: 4m 23s\tremaining: 4m 41s\n",
      "484:\tlearn: 0.0053767\ttotal: 4m 24s\tremaining: 4m 40s\n",
      "485:\tlearn: 0.0053666\ttotal: 4m 24s\tremaining: 4m 40s\n",
      "486:\tlearn: 0.0053576\ttotal: 4m 25s\tremaining: 4m 39s\n",
      "487:\tlearn: 0.0053421\ttotal: 4m 26s\tremaining: 4m 39s\n",
      "488:\tlearn: 0.0053334\ttotal: 4m 26s\tremaining: 4m 38s\n",
      "489:\tlearn: 0.0053267\ttotal: 4m 27s\tremaining: 4m 38s\n",
      "490:\tlearn: 0.0053189\ttotal: 4m 27s\tremaining: 4m 37s\n",
      "491:\tlearn: 0.0053066\ttotal: 4m 28s\tremaining: 4m 36s\n",
      "492:\tlearn: 0.0052704\ttotal: 4m 28s\tremaining: 4m 36s\n",
      "493:\tlearn: 0.0052571\ttotal: 4m 29s\tremaining: 4m 35s\n",
      "494:\tlearn: 0.0052429\ttotal: 4m 29s\tremaining: 4m 35s\n",
      "495:\tlearn: 0.0052308\ttotal: 4m 30s\tremaining: 4m 34s\n",
      "496:\tlearn: 0.0052103\ttotal: 4m 30s\tremaining: 4m 34s\n",
      "497:\tlearn: 0.0051911\ttotal: 4m 31s\tremaining: 4m 33s\n",
      "498:\tlearn: 0.0051815\ttotal: 4m 32s\tremaining: 4m 33s\n",
      "499:\tlearn: 0.0051730\ttotal: 4m 32s\tremaining: 4m 32s\n",
      "500:\tlearn: 0.0051546\ttotal: 4m 33s\tremaining: 4m 32s\n",
      "501:\tlearn: 0.0051423\ttotal: 4m 33s\tremaining: 4m 31s\n",
      "502:\tlearn: 0.0051203\ttotal: 4m 34s\tremaining: 4m 30s\n",
      "503:\tlearn: 0.0050999\ttotal: 4m 34s\tremaining: 4m 30s\n",
      "504:\tlearn: 0.0050856\ttotal: 4m 35s\tremaining: 4m 29s\n",
      "505:\tlearn: 0.0050715\ttotal: 4m 35s\tremaining: 4m 29s\n",
      "506:\tlearn: 0.0050576\ttotal: 4m 36s\tremaining: 4m 28s\n",
      "507:\tlearn: 0.0050436\ttotal: 4m 36s\tremaining: 4m 28s\n",
      "508:\tlearn: 0.0050310\ttotal: 4m 37s\tremaining: 4m 27s\n",
      "509:\tlearn: 0.0050191\ttotal: 4m 37s\tremaining: 4m 27s\n",
      "510:\tlearn: 0.0050031\ttotal: 4m 38s\tremaining: 4m 26s\n",
      "511:\tlearn: 0.0049919\ttotal: 4m 39s\tremaining: 4m 25s\n",
      "512:\tlearn: 0.0049748\ttotal: 4m 39s\tremaining: 4m 25s\n",
      "513:\tlearn: 0.0049568\ttotal: 4m 40s\tremaining: 4m 25s\n",
      "514:\tlearn: 0.0049382\ttotal: 4m 40s\tremaining: 4m 24s\n",
      "515:\tlearn: 0.0049179\ttotal: 4m 41s\tremaining: 4m 24s\n",
      "516:\tlearn: 0.0049040\ttotal: 4m 42s\tremaining: 4m 23s\n",
      "517:\tlearn: 0.0048770\ttotal: 4m 42s\tremaining: 4m 22s\n",
      "518:\tlearn: 0.0048538\ttotal: 4m 43s\tremaining: 4m 22s\n",
      "519:\tlearn: 0.0048465\ttotal: 4m 43s\tremaining: 4m 21s\n",
      "520:\tlearn: 0.0048356\ttotal: 4m 44s\tremaining: 4m 21s\n",
      "521:\tlearn: 0.0048256\ttotal: 4m 44s\tremaining: 4m 20s\n",
      "522:\tlearn: 0.0048017\ttotal: 4m 45s\tremaining: 4m 20s\n",
      "523:\tlearn: 0.0047916\ttotal: 4m 45s\tremaining: 4m 19s\n",
      "524:\tlearn: 0.0047790\ttotal: 4m 46s\tremaining: 4m 19s\n",
      "525:\tlearn: 0.0047689\ttotal: 4m 46s\tremaining: 4m 18s\n",
      "526:\tlearn: 0.0047500\ttotal: 4m 47s\tremaining: 4m 17s\n",
      "527:\tlearn: 0.0047357\ttotal: 4m 47s\tremaining: 4m 17s\n",
      "528:\tlearn: 0.0047236\ttotal: 4m 48s\tremaining: 4m 16s\n",
      "529:\tlearn: 0.0047119\ttotal: 4m 48s\tremaining: 4m 16s\n",
      "530:\tlearn: 0.0046996\ttotal: 4m 49s\tremaining: 4m 15s\n",
      "531:\tlearn: 0.0046803\ttotal: 4m 50s\tremaining: 4m 15s\n",
      "532:\tlearn: 0.0046633\ttotal: 4m 50s\tremaining: 4m 14s\n",
      "533:\tlearn: 0.0046501\ttotal: 4m 51s\tremaining: 4m 14s\n",
      "534:\tlearn: 0.0046379\ttotal: 4m 51s\tremaining: 4m 13s\n",
      "535:\tlearn: 0.0046182\ttotal: 4m 52s\tremaining: 4m 12s\n",
      "536:\tlearn: 0.0046081\ttotal: 4m 52s\tremaining: 4m 12s\n",
      "537:\tlearn: 0.0045934\ttotal: 4m 53s\tremaining: 4m 11s\n",
      "538:\tlearn: 0.0045726\ttotal: 4m 53s\tremaining: 4m 11s\n",
      "539:\tlearn: 0.0045531\ttotal: 4m 54s\tremaining: 4m 10s\n",
      "540:\tlearn: 0.0045434\ttotal: 4m 54s\tremaining: 4m 10s\n",
      "541:\tlearn: 0.0045326\ttotal: 4m 55s\tremaining: 4m 9s\n",
      "542:\tlearn: 0.0045158\ttotal: 4m 55s\tremaining: 4m 9s\n",
      "543:\tlearn: 0.0045109\ttotal: 4m 56s\tremaining: 4m 8s\n",
      "544:\tlearn: 0.0045058\ttotal: 4m 56s\tremaining: 4m 7s\n",
      "545:\tlearn: 0.0044874\ttotal: 4m 57s\tremaining: 4m 7s\n",
      "546:\tlearn: 0.0044755\ttotal: 4m 58s\tremaining: 4m 6s\n",
      "547:\tlearn: 0.0044617\ttotal: 4m 58s\tremaining: 4m 6s\n",
      "548:\tlearn: 0.0044538\ttotal: 4m 59s\tremaining: 4m 5s\n",
      "549:\tlearn: 0.0044413\ttotal: 4m 59s\tremaining: 4m 5s\n",
      "550:\tlearn: 0.0044340\ttotal: 5m\tremaining: 4m 4s\n",
      "551:\tlearn: 0.0044145\ttotal: 5m\tremaining: 4m 4s\n",
      "552:\tlearn: 0.0044030\ttotal: 5m 1s\tremaining: 4m 3s\n",
      "553:\tlearn: 0.0043892\ttotal: 5m 1s\tremaining: 4m 3s\n",
      "554:\tlearn: 0.0043808\ttotal: 5m 2s\tremaining: 4m 2s\n",
      "555:\tlearn: 0.0043672\ttotal: 5m 2s\tremaining: 4m 1s\n",
      "556:\tlearn: 0.0043580\ttotal: 5m 3s\tremaining: 4m 1s\n",
      "557:\tlearn: 0.0043486\ttotal: 5m 3s\tremaining: 4m\n",
      "558:\tlearn: 0.0043382\ttotal: 5m 4s\tremaining: 4m\n",
      "559:\tlearn: 0.0043250\ttotal: 5m 5s\tremaining: 3m 59s\n",
      "560:\tlearn: 0.0043077\ttotal: 5m 5s\tremaining: 3m 59s\n",
      "561:\tlearn: 0.0042941\ttotal: 5m 6s\tremaining: 3m 58s\n",
      "562:\tlearn: 0.0042751\ttotal: 5m 6s\tremaining: 3m 58s\n",
      "563:\tlearn: 0.0042670\ttotal: 5m 7s\tremaining: 3m 57s\n",
      "564:\tlearn: 0.0042548\ttotal: 5m 7s\tremaining: 3m 56s\n",
      "565:\tlearn: 0.0042468\ttotal: 5m 8s\tremaining: 3m 56s\n",
      "566:\tlearn: 0.0042403\ttotal: 5m 8s\tremaining: 3m 55s\n",
      "567:\tlearn: 0.0042305\ttotal: 5m 9s\tremaining: 3m 55s\n",
      "568:\tlearn: 0.0042148\ttotal: 5m 9s\tremaining: 3m 54s\n",
      "569:\tlearn: 0.0042018\ttotal: 5m 10s\tremaining: 3m 54s\n",
      "570:\tlearn: 0.0041861\ttotal: 5m 10s\tremaining: 3m 53s\n",
      "571:\tlearn: 0.0041717\ttotal: 5m 11s\tremaining: 3m 53s\n",
      "572:\tlearn: 0.0041601\ttotal: 5m 12s\tremaining: 3m 52s\n",
      "573:\tlearn: 0.0041464\ttotal: 5m 12s\tremaining: 3m 52s\n",
      "574:\tlearn: 0.0041368\ttotal: 5m 13s\tremaining: 3m 51s\n",
      "575:\tlearn: 0.0041248\ttotal: 5m 13s\tremaining: 3m 50s\n",
      "576:\tlearn: 0.0041139\ttotal: 5m 14s\tremaining: 3m 50s\n",
      "577:\tlearn: 0.0041002\ttotal: 5m 14s\tremaining: 3m 49s\n",
      "578:\tlearn: 0.0040901\ttotal: 5m 15s\tremaining: 3m 49s\n",
      "579:\tlearn: 0.0040835\ttotal: 5m 15s\tremaining: 3m 48s\n",
      "580:\tlearn: 0.0040752\ttotal: 5m 16s\tremaining: 3m 48s\n",
      "581:\tlearn: 0.0040661\ttotal: 5m 16s\tremaining: 3m 47s\n",
      "582:\tlearn: 0.0040601\ttotal: 5m 17s\tremaining: 3m 47s\n",
      "583:\tlearn: 0.0040456\ttotal: 5m 18s\tremaining: 3m 46s\n",
      "584:\tlearn: 0.0040324\ttotal: 5m 18s\tremaining: 3m 45s\n",
      "585:\tlearn: 0.0040262\ttotal: 5m 19s\tremaining: 3m 45s\n",
      "586:\tlearn: 0.0040142\ttotal: 5m 19s\tremaining: 3m 44s\n",
      "587:\tlearn: 0.0039998\ttotal: 5m 20s\tremaining: 3m 44s\n",
      "588:\tlearn: 0.0039919\ttotal: 5m 20s\tremaining: 3m 43s\n",
      "589:\tlearn: 0.0039863\ttotal: 5m 21s\tremaining: 3m 43s\n",
      "590:\tlearn: 0.0039757\ttotal: 5m 21s\tremaining: 3m 42s\n",
      "591:\tlearn: 0.0039583\ttotal: 5m 22s\tremaining: 3m 42s\n",
      "592:\tlearn: 0.0039442\ttotal: 5m 22s\tremaining: 3m 41s\n",
      "593:\tlearn: 0.0039304\ttotal: 5m 23s\tremaining: 3m 41s\n",
      "594:\tlearn: 0.0039173\ttotal: 5m 23s\tremaining: 3m 40s\n",
      "595:\tlearn: 0.0039083\ttotal: 5m 24s\tremaining: 3m 39s\n",
      "596:\tlearn: 0.0038984\ttotal: 5m 25s\tremaining: 3m 39s\n",
      "597:\tlearn: 0.0038919\ttotal: 5m 25s\tremaining: 3m 38s\n",
      "598:\tlearn: 0.0038739\ttotal: 5m 26s\tremaining: 3m 38s\n",
      "599:\tlearn: 0.0038642\ttotal: 5m 26s\tremaining: 3m 37s\n",
      "600:\tlearn: 0.0038515\ttotal: 5m 27s\tremaining: 3m 37s\n",
      "601:\tlearn: 0.0038432\ttotal: 5m 27s\tremaining: 3m 36s\n",
      "602:\tlearn: 0.0038339\ttotal: 5m 28s\tremaining: 3m 36s\n",
      "603:\tlearn: 0.0038247\ttotal: 5m 28s\tremaining: 3m 35s\n",
      "604:\tlearn: 0.0038146\ttotal: 5m 29s\tremaining: 3m 35s\n",
      "605:\tlearn: 0.0038039\ttotal: 5m 29s\tremaining: 3m 34s\n",
      "606:\tlearn: 0.0037886\ttotal: 5m 30s\tremaining: 3m 33s\n",
      "607:\tlearn: 0.0037717\ttotal: 5m 31s\tremaining: 3m 33s\n",
      "608:\tlearn: 0.0037658\ttotal: 5m 31s\tremaining: 3m 32s\n",
      "609:\tlearn: 0.0037501\ttotal: 5m 32s\tremaining: 3m 32s\n",
      "610:\tlearn: 0.0037455\ttotal: 5m 32s\tremaining: 3m 31s\n",
      "611:\tlearn: 0.0037342\ttotal: 5m 33s\tremaining: 3m 31s\n",
      "612:\tlearn: 0.0037269\ttotal: 5m 33s\tremaining: 3m 30s\n",
      "613:\tlearn: 0.0037144\ttotal: 5m 34s\tremaining: 3m 30s\n",
      "614:\tlearn: 0.0037010\ttotal: 5m 34s\tremaining: 3m 29s\n",
      "615:\tlearn: 0.0036910\ttotal: 5m 35s\tremaining: 3m 29s\n",
      "616:\tlearn: 0.0036807\ttotal: 5m 35s\tremaining: 3m 28s\n",
      "617:\tlearn: 0.0036700\ttotal: 5m 36s\tremaining: 3m 27s\n",
      "618:\tlearn: 0.0036602\ttotal: 5m 36s\tremaining: 3m 27s\n",
      "619:\tlearn: 0.0036560\ttotal: 5m 37s\tremaining: 3m 26s\n",
      "620:\tlearn: 0.0036452\ttotal: 5m 38s\tremaining: 3m 26s\n",
      "621:\tlearn: 0.0036370\ttotal: 5m 38s\tremaining: 3m 25s\n",
      "622:\tlearn: 0.0036323\ttotal: 5m 39s\tremaining: 3m 25s\n",
      "623:\tlearn: 0.0036194\ttotal: 5m 39s\tremaining: 3m 24s\n",
      "624:\tlearn: 0.0036068\ttotal: 5m 40s\tremaining: 3m 24s\n",
      "625:\tlearn: 0.0035944\ttotal: 5m 40s\tremaining: 3m 23s\n",
      "626:\tlearn: 0.0035820\ttotal: 5m 41s\tremaining: 3m 23s\n",
      "627:\tlearn: 0.0035690\ttotal: 5m 41s\tremaining: 3m 22s\n",
      "628:\tlearn: 0.0035635\ttotal: 5m 42s\tremaining: 3m 21s\n",
      "629:\tlearn: 0.0035571\ttotal: 5m 42s\tremaining: 3m 21s\n",
      "630:\tlearn: 0.0035493\ttotal: 5m 43s\tremaining: 3m 20s\n",
      "631:\tlearn: 0.0035378\ttotal: 5m 44s\tremaining: 3m 20s\n",
      "632:\tlearn: 0.0035310\ttotal: 5m 44s\tremaining: 3m 19s\n",
      "633:\tlearn: 0.0035228\ttotal: 5m 45s\tremaining: 3m 19s\n",
      "634:\tlearn: 0.0035131\ttotal: 5m 45s\tremaining: 3m 18s\n",
      "635:\tlearn: 0.0035068\ttotal: 5m 46s\tremaining: 3m 18s\n",
      "636:\tlearn: 0.0035010\ttotal: 5m 46s\tremaining: 3m 17s\n",
      "637:\tlearn: 0.0034931\ttotal: 5m 47s\tremaining: 3m 17s\n",
      "638:\tlearn: 0.0034892\ttotal: 5m 47s\tremaining: 3m 16s\n",
      "639:\tlearn: 0.0034832\ttotal: 5m 48s\tremaining: 3m 15s\n",
      "640:\tlearn: 0.0034700\ttotal: 5m 48s\tremaining: 3m 15s\n",
      "641:\tlearn: 0.0034644\ttotal: 5m 49s\tremaining: 3m 14s\n",
      "642:\tlearn: 0.0034538\ttotal: 5m 49s\tremaining: 3m 14s\n",
      "643:\tlearn: 0.0034486\ttotal: 5m 50s\tremaining: 3m 13s\n",
      "644:\tlearn: 0.0034439\ttotal: 5m 50s\tremaining: 3m 13s\n",
      "645:\tlearn: 0.0034375\ttotal: 5m 51s\tremaining: 3m 12s\n",
      "646:\tlearn: 0.0034326\ttotal: 5m 52s\tremaining: 3m 12s\n",
      "647:\tlearn: 0.0034277\ttotal: 5m 52s\tremaining: 3m 11s\n",
      "648:\tlearn: 0.0034221\ttotal: 5m 53s\tremaining: 3m 10s\n",
      "649:\tlearn: 0.0034102\ttotal: 5m 53s\tremaining: 3m 10s\n",
      "650:\tlearn: 0.0034016\ttotal: 5m 54s\tremaining: 3m 9s\n",
      "651:\tlearn: 0.0033965\ttotal: 5m 54s\tremaining: 3m 9s\n",
      "652:\tlearn: 0.0033883\ttotal: 5m 55s\tremaining: 3m 8s\n",
      "653:\tlearn: 0.0033795\ttotal: 5m 55s\tremaining: 3m 8s\n",
      "654:\tlearn: 0.0033710\ttotal: 5m 56s\tremaining: 3m 7s\n",
      "655:\tlearn: 0.0033663\ttotal: 5m 56s\tremaining: 3m 7s\n",
      "656:\tlearn: 0.0033573\ttotal: 5m 57s\tremaining: 3m 6s\n",
      "657:\tlearn: 0.0033523\ttotal: 5m 57s\tremaining: 3m 6s\n",
      "658:\tlearn: 0.0033473\ttotal: 5m 58s\tremaining: 3m 5s\n",
      "659:\tlearn: 0.0033402\ttotal: 5m 58s\tremaining: 3m 4s\n",
      "660:\tlearn: 0.0033357\ttotal: 5m 59s\tremaining: 3m 4s\n",
      "661:\tlearn: 0.0033261\ttotal: 6m\tremaining: 3m 3s\n",
      "662:\tlearn: 0.0033193\ttotal: 6m\tremaining: 3m 3s\n",
      "663:\tlearn: 0.0033094\ttotal: 6m 1s\tremaining: 3m 2s\n",
      "664:\tlearn: 0.0033009\ttotal: 6m 1s\tremaining: 3m 2s\n",
      "665:\tlearn: 0.0032962\ttotal: 6m 2s\tremaining: 3m 1s\n",
      "666:\tlearn: 0.0032870\ttotal: 6m 2s\tremaining: 3m 1s\n",
      "667:\tlearn: 0.0032781\ttotal: 6m 3s\tremaining: 3m\n",
      "668:\tlearn: 0.0032688\ttotal: 6m 3s\tremaining: 2m 59s\n",
      "669:\tlearn: 0.0032636\ttotal: 6m 4s\tremaining: 2m 59s\n",
      "670:\tlearn: 0.0032550\ttotal: 6m 4s\tremaining: 2m 58s\n",
      "671:\tlearn: 0.0032472\ttotal: 6m 5s\tremaining: 2m 58s\n",
      "672:\tlearn: 0.0032369\ttotal: 6m 5s\tremaining: 2m 57s\n",
      "673:\tlearn: 0.0032289\ttotal: 6m 6s\tremaining: 2m 57s\n",
      "674:\tlearn: 0.0032196\ttotal: 6m 7s\tremaining: 2m 56s\n",
      "675:\tlearn: 0.0032091\ttotal: 6m 7s\tremaining: 2m 56s\n",
      "676:\tlearn: 0.0031997\ttotal: 6m 8s\tremaining: 2m 55s\n",
      "677:\tlearn: 0.0031915\ttotal: 6m 8s\tremaining: 2m 55s\n",
      "678:\tlearn: 0.0031852\ttotal: 6m 9s\tremaining: 2m 54s\n",
      "679:\tlearn: 0.0031721\ttotal: 6m 9s\tremaining: 2m 53s\n",
      "680:\tlearn: 0.0031675\ttotal: 6m 10s\tremaining: 2m 53s\n",
      "681:\tlearn: 0.0031610\ttotal: 6m 10s\tremaining: 2m 52s\n",
      "682:\tlearn: 0.0031543\ttotal: 6m 11s\tremaining: 2m 52s\n",
      "683:\tlearn: 0.0031511\ttotal: 6m 11s\tremaining: 2m 51s\n",
      "684:\tlearn: 0.0031394\ttotal: 6m 12s\tremaining: 2m 51s\n",
      "685:\tlearn: 0.0031328\ttotal: 6m 12s\tremaining: 2m 50s\n",
      "686:\tlearn: 0.0031259\ttotal: 6m 13s\tremaining: 2m 50s\n",
      "687:\tlearn: 0.0031205\ttotal: 6m 14s\tremaining: 2m 49s\n",
      "688:\tlearn: 0.0031139\ttotal: 6m 14s\tremaining: 2m 49s\n",
      "689:\tlearn: 0.0031046\ttotal: 6m 15s\tremaining: 2m 48s\n",
      "690:\tlearn: 0.0030996\ttotal: 6m 15s\tremaining: 2m 47s\n",
      "691:\tlearn: 0.0030935\ttotal: 6m 16s\tremaining: 2m 47s\n",
      "692:\tlearn: 0.0030843\ttotal: 6m 16s\tremaining: 2m 46s\n",
      "693:\tlearn: 0.0030792\ttotal: 6m 17s\tremaining: 2m 46s\n",
      "694:\tlearn: 0.0030726\ttotal: 6m 17s\tremaining: 2m 45s\n",
      "695:\tlearn: 0.0030676\ttotal: 6m 18s\tremaining: 2m 45s\n",
      "696:\tlearn: 0.0030617\ttotal: 6m 18s\tremaining: 2m 44s\n",
      "697:\tlearn: 0.0030565\ttotal: 6m 19s\tremaining: 2m 44s\n",
      "698:\tlearn: 0.0030477\ttotal: 6m 19s\tremaining: 2m 43s\n",
      "699:\tlearn: 0.0030378\ttotal: 6m 20s\tremaining: 2m 43s\n",
      "700:\tlearn: 0.0030313\ttotal: 6m 20s\tremaining: 2m 42s\n",
      "701:\tlearn: 0.0030242\ttotal: 6m 21s\tremaining: 2m 41s\n",
      "702:\tlearn: 0.0030180\ttotal: 6m 22s\tremaining: 2m 41s\n",
      "703:\tlearn: 0.0030144\ttotal: 6m 22s\tremaining: 2m 40s\n",
      "704:\tlearn: 0.0030035\ttotal: 6m 23s\tremaining: 2m 40s\n",
      "705:\tlearn: 0.0029952\ttotal: 6m 23s\tremaining: 2m 39s\n",
      "706:\tlearn: 0.0029858\ttotal: 6m 24s\tremaining: 2m 39s\n",
      "707:\tlearn: 0.0029798\ttotal: 6m 24s\tremaining: 2m 38s\n",
      "708:\tlearn: 0.0029739\ttotal: 6m 25s\tremaining: 2m 38s\n",
      "709:\tlearn: 0.0029654\ttotal: 6m 25s\tremaining: 2m 37s\n",
      "710:\tlearn: 0.0029582\ttotal: 6m 26s\tremaining: 2m 37s\n",
      "711:\tlearn: 0.0029501\ttotal: 6m 26s\tremaining: 2m 36s\n",
      "712:\tlearn: 0.0029411\ttotal: 6m 27s\tremaining: 2m 35s\n",
      "713:\tlearn: 0.0029338\ttotal: 6m 27s\tremaining: 2m 35s\n",
      "714:\tlearn: 0.0029271\ttotal: 6m 28s\tremaining: 2m 34s\n",
      "715:\tlearn: 0.0029216\ttotal: 6m 29s\tremaining: 2m 34s\n",
      "716:\tlearn: 0.0029135\ttotal: 6m 29s\tremaining: 2m 33s\n",
      "717:\tlearn: 0.0029103\ttotal: 6m 30s\tremaining: 2m 33s\n",
      "718:\tlearn: 0.0029014\ttotal: 6m 30s\tremaining: 2m 32s\n",
      "719:\tlearn: 0.0028926\ttotal: 6m 31s\tremaining: 2m 32s\n",
      "720:\tlearn: 0.0028871\ttotal: 6m 31s\tremaining: 2m 31s\n",
      "721:\tlearn: 0.0028828\ttotal: 6m 32s\tremaining: 2m 31s\n",
      "722:\tlearn: 0.0028793\ttotal: 6m 32s\tremaining: 2m 30s\n",
      "723:\tlearn: 0.0028728\ttotal: 6m 33s\tremaining: 2m 29s\n",
      "724:\tlearn: 0.0028643\ttotal: 6m 33s\tremaining: 2m 29s\n",
      "725:\tlearn: 0.0028590\ttotal: 6m 34s\tremaining: 2m 28s\n",
      "726:\tlearn: 0.0028539\ttotal: 6m 34s\tremaining: 2m 28s\n",
      "727:\tlearn: 0.0028473\ttotal: 6m 35s\tremaining: 2m 27s\n",
      "728:\tlearn: 0.0028414\ttotal: 6m 36s\tremaining: 2m 27s\n",
      "729:\tlearn: 0.0028372\ttotal: 6m 36s\tremaining: 2m 26s\n",
      "730:\tlearn: 0.0028309\ttotal: 6m 37s\tremaining: 2m 26s\n",
      "731:\tlearn: 0.0028279\ttotal: 6m 37s\tremaining: 2m 25s\n",
      "732:\tlearn: 0.0028212\ttotal: 6m 38s\tremaining: 2m 25s\n",
      "733:\tlearn: 0.0028151\ttotal: 6m 38s\tremaining: 2m 24s\n",
      "734:\tlearn: 0.0028123\ttotal: 6m 39s\tremaining: 2m 23s\n",
      "735:\tlearn: 0.0028082\ttotal: 6m 39s\tremaining: 2m 23s\n",
      "736:\tlearn: 0.0028020\ttotal: 6m 40s\tremaining: 2m 22s\n",
      "737:\tlearn: 0.0027953\ttotal: 6m 40s\tremaining: 2m 22s\n",
      "738:\tlearn: 0.0027906\ttotal: 6m 41s\tremaining: 2m 21s\n",
      "739:\tlearn: 0.0027805\ttotal: 6m 41s\tremaining: 2m 21s\n",
      "740:\tlearn: 0.0027751\ttotal: 6m 42s\tremaining: 2m 20s\n",
      "741:\tlearn: 0.0027697\ttotal: 6m 43s\tremaining: 2m 20s\n",
      "742:\tlearn: 0.0027611\ttotal: 6m 43s\tremaining: 2m 19s\n",
      "743:\tlearn: 0.0027566\ttotal: 6m 44s\tremaining: 2m 19s\n",
      "744:\tlearn: 0.0027507\ttotal: 6m 44s\tremaining: 2m 18s\n",
      "745:\tlearn: 0.0027445\ttotal: 6m 45s\tremaining: 2m 17s\n",
      "746:\tlearn: 0.0027344\ttotal: 6m 45s\tremaining: 2m 17s\n",
      "747:\tlearn: 0.0027291\ttotal: 6m 46s\tremaining: 2m 16s\n",
      "748:\tlearn: 0.0027209\ttotal: 6m 46s\tremaining: 2m 16s\n",
      "749:\tlearn: 0.0027138\ttotal: 6m 47s\tremaining: 2m 15s\n",
      "750:\tlearn: 0.0027079\ttotal: 6m 47s\tremaining: 2m 15s\n",
      "751:\tlearn: 0.0027031\ttotal: 6m 48s\tremaining: 2m 14s\n",
      "752:\tlearn: 0.0026965\ttotal: 6m 48s\tremaining: 2m 14s\n",
      "753:\tlearn: 0.0026930\ttotal: 6m 49s\tremaining: 2m 13s\n",
      "754:\tlearn: 0.0026862\ttotal: 6m 50s\tremaining: 2m 13s\n",
      "755:\tlearn: 0.0026800\ttotal: 6m 50s\tremaining: 2m 12s\n",
      "756:\tlearn: 0.0026770\ttotal: 6m 51s\tremaining: 2m 11s\n",
      "757:\tlearn: 0.0026699\ttotal: 6m 51s\tremaining: 2m 11s\n",
      "758:\tlearn: 0.0026634\ttotal: 6m 52s\tremaining: 2m 10s\n",
      "759:\tlearn: 0.0026539\ttotal: 6m 52s\tremaining: 2m 10s\n",
      "760:\tlearn: 0.0026466\ttotal: 6m 53s\tremaining: 2m 9s\n",
      "761:\tlearn: 0.0026422\ttotal: 6m 53s\tremaining: 2m 9s\n",
      "762:\tlearn: 0.0026362\ttotal: 6m 54s\tremaining: 2m 8s\n",
      "763:\tlearn: 0.0026329\ttotal: 6m 54s\tremaining: 2m 8s\n",
      "764:\tlearn: 0.0026293\ttotal: 6m 55s\tremaining: 2m 7s\n",
      "765:\tlearn: 0.0026220\ttotal: 6m 55s\tremaining: 2m 7s\n",
      "766:\tlearn: 0.0026114\ttotal: 6m 56s\tremaining: 2m 6s\n",
      "767:\tlearn: 0.0026071\ttotal: 6m 57s\tremaining: 2m 5s\n",
      "768:\tlearn: 0.0026027\ttotal: 6m 57s\tremaining: 2m 5s\n",
      "769:\tlearn: 0.0025977\ttotal: 6m 58s\tremaining: 2m 4s\n",
      "770:\tlearn: 0.0025893\ttotal: 6m 58s\tremaining: 2m 4s\n",
      "771:\tlearn: 0.0025840\ttotal: 6m 59s\tremaining: 2m 3s\n",
      "772:\tlearn: 0.0025799\ttotal: 6m 59s\tremaining: 2m 3s\n",
      "773:\tlearn: 0.0025752\ttotal: 7m\tremaining: 2m 2s\n",
      "774:\tlearn: 0.0025714\ttotal: 7m\tremaining: 2m 2s\n",
      "775:\tlearn: 0.0025672\ttotal: 7m 1s\tremaining: 2m 1s\n",
      "776:\tlearn: 0.0025612\ttotal: 7m 1s\tremaining: 2m 1s\n",
      "777:\tlearn: 0.0025533\ttotal: 7m 2s\tremaining: 2m\n",
      "778:\tlearn: 0.0025502\ttotal: 7m 2s\tremaining: 1m 59s\n",
      "779:\tlearn: 0.0025459\ttotal: 7m 3s\tremaining: 1m 59s\n",
      "780:\tlearn: 0.0025408\ttotal: 7m 3s\tremaining: 1m 58s\n",
      "781:\tlearn: 0.0025347\ttotal: 7m 4s\tremaining: 1m 58s\n",
      "782:\tlearn: 0.0025285\ttotal: 7m 5s\tremaining: 1m 57s\n",
      "783:\tlearn: 0.0025247\ttotal: 7m 5s\tremaining: 1m 57s\n",
      "784:\tlearn: 0.0025197\ttotal: 7m 6s\tremaining: 1m 56s\n",
      "785:\tlearn: 0.0025153\ttotal: 7m 6s\tremaining: 1m 56s\n",
      "786:\tlearn: 0.0025091\ttotal: 7m 7s\tremaining: 1m 55s\n",
      "787:\tlearn: 0.0025019\ttotal: 7m 7s\tremaining: 1m 55s\n",
      "788:\tlearn: 0.0024984\ttotal: 7m 8s\tremaining: 1m 54s\n",
      "789:\tlearn: 0.0024911\ttotal: 7m 8s\tremaining: 1m 54s\n",
      "790:\tlearn: 0.0024832\ttotal: 7m 9s\tremaining: 1m 53s\n",
      "791:\tlearn: 0.0024767\ttotal: 7m 9s\tremaining: 1m 52s\n",
      "792:\tlearn: 0.0024702\ttotal: 7m 10s\tremaining: 1m 52s\n",
      "793:\tlearn: 0.0024627\ttotal: 7m 11s\tremaining: 1m 51s\n",
      "794:\tlearn: 0.0024563\ttotal: 7m 11s\tremaining: 1m 51s\n",
      "795:\tlearn: 0.0024477\ttotal: 7m 12s\tremaining: 1m 50s\n",
      "796:\tlearn: 0.0024416\ttotal: 7m 12s\tremaining: 1m 50s\n",
      "797:\tlearn: 0.0024383\ttotal: 7m 13s\tremaining: 1m 49s\n",
      "798:\tlearn: 0.0024319\ttotal: 7m 13s\tremaining: 1m 49s\n",
      "799:\tlearn: 0.0024228\ttotal: 7m 14s\tremaining: 1m 48s\n",
      "800:\tlearn: 0.0024191\ttotal: 7m 14s\tremaining: 1m 48s\n",
      "801:\tlearn: 0.0024123\ttotal: 7m 15s\tremaining: 1m 47s\n",
      "802:\tlearn: 0.0024087\ttotal: 7m 16s\tremaining: 1m 46s\n",
      "803:\tlearn: 0.0024054\ttotal: 7m 16s\tremaining: 1m 46s\n",
      "804:\tlearn: 0.0023995\ttotal: 7m 17s\tremaining: 1m 45s\n",
      "805:\tlearn: 0.0023940\ttotal: 7m 17s\tremaining: 1m 45s\n",
      "806:\tlearn: 0.0023880\ttotal: 7m 18s\tremaining: 1m 44s\n",
      "807:\tlearn: 0.0023844\ttotal: 7m 18s\tremaining: 1m 44s\n",
      "808:\tlearn: 0.0023802\ttotal: 7m 19s\tremaining: 1m 43s\n",
      "809:\tlearn: 0.0023741\ttotal: 7m 19s\tremaining: 1m 43s\n",
      "810:\tlearn: 0.0023686\ttotal: 7m 20s\tremaining: 1m 42s\n",
      "811:\tlearn: 0.0023638\ttotal: 7m 20s\tremaining: 1m 42s\n",
      "812:\tlearn: 0.0023593\ttotal: 7m 21s\tremaining: 1m 41s\n",
      "813:\tlearn: 0.0023531\ttotal: 7m 22s\tremaining: 1m 41s\n",
      "814:\tlearn: 0.0023503\ttotal: 7m 22s\tremaining: 1m 40s\n",
      "815:\tlearn: 0.0023469\ttotal: 7m 23s\tremaining: 1m 39s\n",
      "816:\tlearn: 0.0023420\ttotal: 7m 23s\tremaining: 1m 39s\n",
      "817:\tlearn: 0.0023387\ttotal: 7m 24s\tremaining: 1m 38s\n",
      "818:\tlearn: 0.0023322\ttotal: 7m 24s\tremaining: 1m 38s\n",
      "819:\tlearn: 0.0023262\ttotal: 7m 25s\tremaining: 1m 37s\n",
      "820:\tlearn: 0.0023224\ttotal: 7m 25s\tremaining: 1m 37s\n",
      "821:\tlearn: 0.0023171\ttotal: 7m 26s\tremaining: 1m 36s\n",
      "822:\tlearn: 0.0023118\ttotal: 7m 26s\tremaining: 1m 36s\n",
      "823:\tlearn: 0.0023086\ttotal: 7m 27s\tremaining: 1m 35s\n",
      "824:\tlearn: 0.0023024\ttotal: 7m 27s\tremaining: 1m 35s\n",
      "825:\tlearn: 0.0023001\ttotal: 7m 28s\tremaining: 1m 34s\n",
      "826:\tlearn: 0.0022947\ttotal: 7m 29s\tremaining: 1m 33s\n",
      "827:\tlearn: 0.0022911\ttotal: 7m 29s\tremaining: 1m 33s\n",
      "828:\tlearn: 0.0022856\ttotal: 7m 30s\tremaining: 1m 32s\n",
      "829:\tlearn: 0.0022775\ttotal: 7m 30s\tremaining: 1m 32s\n",
      "830:\tlearn: 0.0022741\ttotal: 7m 31s\tremaining: 1m 31s\n",
      "831:\tlearn: 0.0022710\ttotal: 7m 31s\tremaining: 1m 31s\n",
      "832:\tlearn: 0.0022669\ttotal: 7m 32s\tremaining: 1m 30s\n",
      "833:\tlearn: 0.0022634\ttotal: 7m 32s\tremaining: 1m 30s\n",
      "834:\tlearn: 0.0022593\ttotal: 7m 33s\tremaining: 1m 29s\n",
      "835:\tlearn: 0.0022530\ttotal: 7m 33s\tremaining: 1m 29s\n",
      "836:\tlearn: 0.0022488\ttotal: 7m 34s\tremaining: 1m 28s\n",
      "837:\tlearn: 0.0022420\ttotal: 7m 35s\tremaining: 1m 27s\n",
      "838:\tlearn: 0.0022372\ttotal: 7m 35s\tremaining: 1m 27s\n",
      "839:\tlearn: 0.0022322\ttotal: 7m 36s\tremaining: 1m 26s\n",
      "840:\tlearn: 0.0022282\ttotal: 7m 36s\tremaining: 1m 26s\n",
      "841:\tlearn: 0.0022253\ttotal: 7m 37s\tremaining: 1m 25s\n",
      "842:\tlearn: 0.0022212\ttotal: 7m 37s\tremaining: 1m 25s\n",
      "843:\tlearn: 0.0022168\ttotal: 7m 38s\tremaining: 1m 24s\n",
      "844:\tlearn: 0.0022110\ttotal: 7m 38s\tremaining: 1m 24s\n",
      "845:\tlearn: 0.0022075\ttotal: 7m 39s\tremaining: 1m 23s\n",
      "846:\tlearn: 0.0022036\ttotal: 7m 39s\tremaining: 1m 23s\n",
      "847:\tlearn: 0.0022000\ttotal: 7m 40s\tremaining: 1m 22s\n",
      "848:\tlearn: 0.0021966\ttotal: 7m 40s\tremaining: 1m 21s\n",
      "849:\tlearn: 0.0021932\ttotal: 7m 41s\tremaining: 1m 21s\n",
      "850:\tlearn: 0.0021881\ttotal: 7m 42s\tremaining: 1m 20s\n",
      "851:\tlearn: 0.0021802\ttotal: 7m 42s\tremaining: 1m 20s\n",
      "852:\tlearn: 0.0021777\ttotal: 7m 43s\tremaining: 1m 19s\n",
      "853:\tlearn: 0.0021718\ttotal: 7m 43s\tremaining: 1m 19s\n",
      "854:\tlearn: 0.0021651\ttotal: 7m 44s\tremaining: 1m 18s\n",
      "855:\tlearn: 0.0021609\ttotal: 7m 44s\tremaining: 1m 18s\n",
      "856:\tlearn: 0.0021562\ttotal: 7m 45s\tremaining: 1m 17s\n",
      "857:\tlearn: 0.0021545\ttotal: 7m 45s\tremaining: 1m 17s\n",
      "858:\tlearn: 0.0021507\ttotal: 7m 46s\tremaining: 1m 16s\n",
      "859:\tlearn: 0.0021476\ttotal: 7m 46s\tremaining: 1m 16s\n",
      "860:\tlearn: 0.0021418\ttotal: 7m 47s\tremaining: 1m 15s\n",
      "861:\tlearn: 0.0021386\ttotal: 7m 48s\tremaining: 1m 14s\n",
      "862:\tlearn: 0.0021317\ttotal: 7m 48s\tremaining: 1m 14s\n",
      "863:\tlearn: 0.0021259\ttotal: 7m 49s\tremaining: 1m 13s\n",
      "864:\tlearn: 0.0021211\ttotal: 7m 49s\tremaining: 1m 13s\n",
      "865:\tlearn: 0.0021179\ttotal: 7m 50s\tremaining: 1m 12s\n",
      "866:\tlearn: 0.0021142\ttotal: 7m 50s\tremaining: 1m 12s\n",
      "867:\tlearn: 0.0021107\ttotal: 7m 51s\tremaining: 1m 11s\n",
      "868:\tlearn: 0.0021076\ttotal: 7m 51s\tremaining: 1m 11s\n",
      "869:\tlearn: 0.0021019\ttotal: 7m 52s\tremaining: 1m 10s\n",
      "870:\tlearn: 0.0020965\ttotal: 7m 52s\tremaining: 1m 10s\n",
      "871:\tlearn: 0.0020931\ttotal: 7m 53s\tremaining: 1m 9s\n",
      "872:\tlearn: 0.0020888\ttotal: 7m 53s\tremaining: 1m 8s\n",
      "873:\tlearn: 0.0020864\ttotal: 7m 54s\tremaining: 1m 8s\n",
      "874:\tlearn: 0.0020829\ttotal: 7m 54s\tremaining: 1m 7s\n",
      "875:\tlearn: 0.0020768\ttotal: 7m 55s\tremaining: 1m 7s\n",
      "876:\tlearn: 0.0020719\ttotal: 7m 56s\tremaining: 1m 6s\n",
      "877:\tlearn: 0.0020682\ttotal: 7m 56s\tremaining: 1m 6s\n",
      "878:\tlearn: 0.0020657\ttotal: 7m 57s\tremaining: 1m 5s\n",
      "879:\tlearn: 0.0020615\ttotal: 7m 57s\tremaining: 1m 5s\n",
      "880:\tlearn: 0.0020569\ttotal: 7m 58s\tremaining: 1m 4s\n",
      "881:\tlearn: 0.0020539\ttotal: 7m 58s\tremaining: 1m 4s\n",
      "882:\tlearn: 0.0020518\ttotal: 7m 59s\tremaining: 1m 3s\n",
      "883:\tlearn: 0.0020498\ttotal: 7m 59s\tremaining: 1m 2s\n",
      "884:\tlearn: 0.0020459\ttotal: 8m\tremaining: 1m 2s\n",
      "885:\tlearn: 0.0020417\ttotal: 8m\tremaining: 1m 1s\n",
      "886:\tlearn: 0.0020386\ttotal: 8m 1s\tremaining: 1m 1s\n",
      "887:\tlearn: 0.0020356\ttotal: 8m 1s\tremaining: 1m\n",
      "888:\tlearn: 0.0020307\ttotal: 8m 2s\tremaining: 1m\n",
      "889:\tlearn: 0.0020286\ttotal: 8m 3s\tremaining: 59.7s\n",
      "890:\tlearn: 0.0020243\ttotal: 8m 3s\tremaining: 59.2s\n",
      "891:\tlearn: 0.0020182\ttotal: 8m 4s\tremaining: 58.6s\n",
      "892:\tlearn: 0.0020146\ttotal: 8m 4s\tremaining: 58.1s\n",
      "893:\tlearn: 0.0020118\ttotal: 8m 5s\tremaining: 57.5s\n",
      "894:\tlearn: 0.0020093\ttotal: 8m 5s\tremaining: 57s\n",
      "895:\tlearn: 0.0020052\ttotal: 8m 6s\tremaining: 56.4s\n",
      "896:\tlearn: 0.0019995\ttotal: 8m 6s\tremaining: 55.9s\n",
      "897:\tlearn: 0.0019960\ttotal: 8m 7s\tremaining: 55.4s\n",
      "898:\tlearn: 0.0019918\ttotal: 8m 7s\tremaining: 54.8s\n",
      "899:\tlearn: 0.0019887\ttotal: 8m 8s\tremaining: 54.3s\n",
      "900:\tlearn: 0.0019857\ttotal: 8m 8s\tremaining: 53.7s\n",
      "901:\tlearn: 0.0019822\ttotal: 8m 9s\tremaining: 53.2s\n",
      "902:\tlearn: 0.0019799\ttotal: 8m 9s\tremaining: 52.6s\n",
      "903:\tlearn: 0.0019770\ttotal: 8m 10s\tremaining: 52.1s\n",
      "904:\tlearn: 0.0019739\ttotal: 8m 11s\tremaining: 51.5s\n",
      "905:\tlearn: 0.0019700\ttotal: 8m 11s\tremaining: 51s\n",
      "906:\tlearn: 0.0019654\ttotal: 8m 12s\tremaining: 50.5s\n",
      "907:\tlearn: 0.0019611\ttotal: 8m 12s\tremaining: 49.9s\n",
      "908:\tlearn: 0.0019580\ttotal: 8m 13s\tremaining: 49.4s\n",
      "909:\tlearn: 0.0019549\ttotal: 8m 13s\tremaining: 48.8s\n",
      "910:\tlearn: 0.0019515\ttotal: 8m 14s\tremaining: 48.3s\n",
      "911:\tlearn: 0.0019484\ttotal: 8m 14s\tremaining: 47.7s\n",
      "912:\tlearn: 0.0019436\ttotal: 8m 15s\tremaining: 47.2s\n",
      "913:\tlearn: 0.0019394\ttotal: 8m 15s\tremaining: 46.7s\n",
      "914:\tlearn: 0.0019359\ttotal: 8m 16s\tremaining: 46.1s\n",
      "915:\tlearn: 0.0019323\ttotal: 8m 16s\tremaining: 45.6s\n",
      "916:\tlearn: 0.0019300\ttotal: 8m 17s\tremaining: 45s\n",
      "917:\tlearn: 0.0019279\ttotal: 8m 17s\tremaining: 44.5s\n",
      "918:\tlearn: 0.0019240\ttotal: 8m 18s\tremaining: 43.9s\n",
      "919:\tlearn: 0.0019201\ttotal: 8m 19s\tremaining: 43.4s\n",
      "920:\tlearn: 0.0019184\ttotal: 8m 19s\tremaining: 42.9s\n",
      "921:\tlearn: 0.0019164\ttotal: 8m 20s\tremaining: 42.3s\n",
      "922:\tlearn: 0.0019118\ttotal: 8m 20s\tremaining: 41.8s\n",
      "923:\tlearn: 0.0019079\ttotal: 8m 21s\tremaining: 41.2s\n",
      "924:\tlearn: 0.0019049\ttotal: 8m 21s\tremaining: 40.7s\n",
      "925:\tlearn: 0.0019017\ttotal: 8m 22s\tremaining: 40.1s\n",
      "926:\tlearn: 0.0018998\ttotal: 8m 22s\tremaining: 39.6s\n",
      "927:\tlearn: 0.0018972\ttotal: 8m 23s\tremaining: 39s\n",
      "928:\tlearn: 0.0018947\ttotal: 8m 23s\tremaining: 38.5s\n",
      "929:\tlearn: 0.0018918\ttotal: 8m 24s\tremaining: 38s\n",
      "930:\tlearn: 0.0018886\ttotal: 8m 24s\tremaining: 37.4s\n",
      "931:\tlearn: 0.0018833\ttotal: 8m 25s\tremaining: 36.9s\n",
      "932:\tlearn: 0.0018809\ttotal: 8m 26s\tremaining: 36.3s\n",
      "933:\tlearn: 0.0018778\ttotal: 8m 26s\tremaining: 35.8s\n",
      "934:\tlearn: 0.0018746\ttotal: 8m 27s\tremaining: 35.3s\n",
      "935:\tlearn: 0.0018710\ttotal: 8m 27s\tremaining: 34.7s\n",
      "936:\tlearn: 0.0018667\ttotal: 8m 28s\tremaining: 34.2s\n",
      "937:\tlearn: 0.0018635\ttotal: 8m 28s\tremaining: 33.6s\n",
      "938:\tlearn: 0.0018600\ttotal: 8m 29s\tremaining: 33.1s\n",
      "939:\tlearn: 0.0018554\ttotal: 8m 29s\tremaining: 32.5s\n",
      "940:\tlearn: 0.0018511\ttotal: 8m 30s\tremaining: 32s\n",
      "941:\tlearn: 0.0018482\ttotal: 8m 30s\tremaining: 31.5s\n",
      "942:\tlearn: 0.0018452\ttotal: 8m 31s\tremaining: 30.9s\n",
      "943:\tlearn: 0.0018426\ttotal: 8m 32s\tremaining: 30.4s\n",
      "944:\tlearn: 0.0018388\ttotal: 8m 32s\tremaining: 29.8s\n",
      "945:\tlearn: 0.0018359\ttotal: 8m 33s\tremaining: 29.3s\n",
      "946:\tlearn: 0.0018332\ttotal: 8m 33s\tremaining: 28.7s\n",
      "947:\tlearn: 0.0018283\ttotal: 8m 34s\tremaining: 28.2s\n",
      "948:\tlearn: 0.0018242\ttotal: 8m 34s\tremaining: 27.7s\n",
      "949:\tlearn: 0.0018201\ttotal: 8m 35s\tremaining: 27.1s\n",
      "950:\tlearn: 0.0018169\ttotal: 8m 35s\tremaining: 26.6s\n",
      "951:\tlearn: 0.0018139\ttotal: 8m 36s\tremaining: 26s\n",
      "952:\tlearn: 0.0018092\ttotal: 8m 36s\tremaining: 25.5s\n",
      "953:\tlearn: 0.0018048\ttotal: 8m 37s\tremaining: 24.9s\n",
      "954:\tlearn: 0.0018004\ttotal: 8m 37s\tremaining: 24.4s\n",
      "955:\tlearn: 0.0017964\ttotal: 8m 38s\tremaining: 23.9s\n",
      "956:\tlearn: 0.0017938\ttotal: 8m 38s\tremaining: 23.3s\n",
      "957:\tlearn: 0.0017905\ttotal: 8m 39s\tremaining: 22.8s\n",
      "958:\tlearn: 0.0017859\ttotal: 8m 40s\tremaining: 22.2s\n",
      "959:\tlearn: 0.0017825\ttotal: 8m 40s\tremaining: 21.7s\n",
      "960:\tlearn: 0.0017800\ttotal: 8m 41s\tremaining: 21.1s\n",
      "961:\tlearn: 0.0017779\ttotal: 8m 41s\tremaining: 20.6s\n",
      "962:\tlearn: 0.0017740\ttotal: 8m 42s\tremaining: 20.1s\n",
      "963:\tlearn: 0.0017719\ttotal: 8m 42s\tremaining: 19.5s\n",
      "964:\tlearn: 0.0017670\ttotal: 8m 43s\tremaining: 19s\n",
      "965:\tlearn: 0.0017643\ttotal: 8m 43s\tremaining: 18.4s\n",
      "966:\tlearn: 0.0017616\ttotal: 8m 44s\tremaining: 17.9s\n",
      "967:\tlearn: 0.0017570\ttotal: 8m 44s\tremaining: 17.4s\n",
      "968:\tlearn: 0.0017551\ttotal: 8m 45s\tremaining: 16.8s\n",
      "969:\tlearn: 0.0017522\ttotal: 8m 45s\tremaining: 16.3s\n",
      "970:\tlearn: 0.0017500\ttotal: 8m 46s\tremaining: 15.7s\n",
      "971:\tlearn: 0.0017473\ttotal: 8m 46s\tremaining: 15.2s\n",
      "972:\tlearn: 0.0017444\ttotal: 8m 47s\tremaining: 14.6s\n",
      "973:\tlearn: 0.0017411\ttotal: 8m 48s\tremaining: 14.1s\n",
      "974:\tlearn: 0.0017378\ttotal: 8m 48s\tremaining: 13.6s\n",
      "975:\tlearn: 0.0017351\ttotal: 8m 49s\tremaining: 13s\n",
      "976:\tlearn: 0.0017330\ttotal: 8m 49s\tremaining: 12.5s\n",
      "977:\tlearn: 0.0017312\ttotal: 8m 50s\tremaining: 11.9s\n",
      "978:\tlearn: 0.0017278\ttotal: 8m 50s\tremaining: 11.4s\n",
      "979:\tlearn: 0.0017262\ttotal: 8m 51s\tremaining: 10.8s\n",
      "980:\tlearn: 0.0017250\ttotal: 8m 51s\tremaining: 10.3s\n",
      "981:\tlearn: 0.0017219\ttotal: 8m 52s\tremaining: 9.76s\n",
      "982:\tlearn: 0.0017193\ttotal: 8m 52s\tremaining: 9.21s\n",
      "983:\tlearn: 0.0017166\ttotal: 8m 53s\tremaining: 8.67s\n",
      "984:\tlearn: 0.0017136\ttotal: 8m 53s\tremaining: 8.13s\n",
      "985:\tlearn: 0.0017103\ttotal: 8m 54s\tremaining: 7.59s\n",
      "986:\tlearn: 0.0017084\ttotal: 8m 54s\tremaining: 7.04s\n",
      "987:\tlearn: 0.0017045\ttotal: 8m 55s\tremaining: 6.5s\n",
      "988:\tlearn: 0.0017016\ttotal: 8m 55s\tremaining: 5.96s\n",
      "989:\tlearn: 0.0016988\ttotal: 8m 56s\tremaining: 5.42s\n",
      "990:\tlearn: 0.0016967\ttotal: 8m 57s\tremaining: 4.88s\n",
      "991:\tlearn: 0.0016942\ttotal: 8m 57s\tremaining: 4.33s\n",
      "992:\tlearn: 0.0016926\ttotal: 8m 58s\tremaining: 3.79s\n",
      "993:\tlearn: 0.0016894\ttotal: 8m 58s\tremaining: 3.25s\n",
      "994:\tlearn: 0.0016876\ttotal: 8m 59s\tremaining: 2.71s\n",
      "995:\tlearn: 0.0016841\ttotal: 8m 59s\tremaining: 2.17s\n",
      "996:\tlearn: 0.0016805\ttotal: 9m\tremaining: 1.63s\n",
      "997:\tlearn: 0.0016787\ttotal: 9m\tremaining: 1.08s\n",
      "998:\tlearn: 0.0016751\ttotal: 9m 1s\tremaining: 542ms\n",
      "999:\tlearn: 0.0016736\ttotal: 9m 1s\tremaining: 0us\n"
     ]
    }
   ],
   "source": [
    "c1 = CatBoostClassifier(task_type=\"GPU\", loss_function=\"Logloss\", random_state=42, max_depth=16).fit(X_train_n, y_train_n)"
   ]
  },
  {
   "cell_type": "code",
   "execution_count": 26,
   "id": "5fc34fa7-7f81-42d6-bee0-ee8f955f9d84",
   "metadata": {},
   "outputs": [
    {
     "data": {
      "text/plain": [
       "0.031219132375522735"
      ]
     },
     "execution_count": 26,
     "metadata": {},
     "output_type": "execute_result"
    }
   ],
   "source": [
    "log_loss(y_valid, c1.predict_proba(X_valid))"
   ]
  },
  {
   "cell_type": "markdown",
   "id": "cebb8e77-48ef-4500-996d-ab9dda96da58",
   "metadata": {},
   "source": [
    "0.0357329855587518  \n",
    "0.035666214437294716 C - 1.1"
   ]
  },
  {
   "cell_type": "code",
   "execution_count": 503,
   "id": "0a165a77-473a-4df7-8be5-6209a9469ab1",
   "metadata": {},
   "outputs": [],
   "source": [
    "X_train_r, X_valid, y_train_r, y_valid = train_test_split(X_scaler_train_4, y_train, random_state=537, test_size=.20, shuffle=True)"
   ]
  },
  {
   "cell_type": "code",
   "execution_count": null,
   "id": "67eb1bdc-7bdd-4908-b22a-50f5de792432",
   "metadata": {},
   "outputs": [
    {
     "data": {
      "text/plain": [
       "0.0335046216536139"
      ]
     },
     "execution_count": 245,
     "metadata": {},
     "output_type": "execute_result"
    }
   ],
   "source": [
    "log_loss(y_valid, a2.predict(X_valid))"
   ]
  },
  {
   "cell_type": "code",
   "execution_count": null,
   "id": "1d06d41f-040c-4314-80b1-a47b7b9306c5",
   "metadata": {},
   "outputs": [
    {
     "data": {
      "text/plain": [
       "0.03257437668647646"
      ]
     },
     "execution_count": 488,
     "metadata": {},
     "output_type": "execute_result"
    }
   ],
   "source": [
    "log_loss(y_test, a3.predict_proba(pd.DataFrame(X_test).drop(np.argsort(a3.feature_importances_)[:4], axis=1))[:, 1])"
   ]
  },
  {
   "cell_type": "code",
   "execution_count": null,
   "id": "1fd9247f-f90d-42f6-a790-63f9b265050e",
   "metadata": {},
   "outputs": [],
   "source": [
    "y_out = a5.predict_proba(pd.DataFrame(X_scaler_test).drop(np.argsort(a3.feature_importances_)[:4], axis=1))[:, 1]"
   ]
  },
  {
   "cell_type": "code",
   "execution_count": null,
   "id": "5f75094e-fdeb-41d8-8a50-acb34829d9ac",
   "metadata": {},
   "outputs": [],
   "source": [
    "y_out = pd.concat([test[\"row_number\"], pd.Series(y_out)], axis=1)\n",
    "y_out.columns = [\"row_number\", \"click\"]"
   ]
  },
  {
   "cell_type": "code",
   "execution_count": null,
   "id": "002590ae-100f-49ee-b96d-6375f32ddb85",
   "metadata": {},
   "outputs": [],
   "source": [
    "y_out.to_csv(\"out_a2.csv\", index=False)"
   ]
  },
  {
   "cell_type": "code",
   "execution_count": null,
   "id": "24c01c55-c07a-4ebb-9286-cdfbe6035f60",
   "metadata": {},
   "outputs": [],
   "source": [
    "from sklearn.svm import SVC, SVR"
   ]
  },
  {
   "cell_type": "code",
   "execution_count": null,
   "id": "db17df48-796d-42c6-9ff6-989116fa5a31",
   "metadata": {},
   "outputs": [],
   "source": [
    "svc = SVR().fit(X_train_n, y_train_n)"
   ]
  },
  {
   "cell_type": "code",
   "execution_count": 500,
   "id": "4c553fbc-e837-4303-8e92-38af2456468d",
   "metadata": {},
   "outputs": [
    {
     "data": {
      "text/plain": [
       "0.03583743090715849"
      ]
     },
     "execution_count": 500,
     "metadata": {},
     "output_type": "execute_result"
    }
   ],
   "source": [
    "log_loss(y_train, np.zeros(201000) + .009999)"
   ]
  },
  {
   "cell_type": "code",
   "execution_count": 441,
   "id": "7bb055f2-f36a-4a23-bcac-0dfbf5829a90",
   "metadata": {},
   "outputs": [
    {
     "data": {
      "text/plain": [
       "array([0])"
      ]
     },
     "execution_count": 441,
     "metadata": {},
     "output_type": "execute_result"
    }
   ],
   "source": [
    "pd.Series(np.round(svc.predict(X_valid)).astype(int)).unique()"
   ]
  },
  {
   "cell_type": "code",
   "execution_count": 444,
   "id": "98e56758-1608-463e-8565-70af1a8b2668",
   "metadata": {},
   "outputs": [
    {
     "data": {
      "text/plain": [
       "0    19967\n",
       "1      133\n",
       "Name: click, dtype: int64"
      ]
     },
     "execution_count": 444,
     "metadata": {},
     "output_type": "execute_result"
    }
   ],
   "source": [
    "y_valid.value_counts()"
   ]
  },
  {
   "cell_type": "code",
   "execution_count": 482,
   "id": "3ab1c411-0c12-4bb0-824f-de008cc44687",
   "metadata": {},
   "outputs": [
    {
     "data": {
      "text/plain": [
       "0         0\n",
       "1         0\n",
       "2         0\n",
       "3         0\n",
       "4         0\n",
       "         ..\n",
       "200995    0\n",
       "200996    0\n",
       "200997    0\n",
       "200998    0\n",
       "200999    0\n",
       "Name: click, Length: 201000, dtype: int64"
      ]
     },
     "execution_count": 482,
     "metadata": {},
     "output_type": "execute_result"
    }
   ],
   "source": [
    "y_train"
   ]
  },
  {
   "cell_type": "code",
   "execution_count": 478,
   "id": "0511b14d-5aa0-4b65-99fc-6cfb1c410e3d",
   "metadata": {},
   "outputs": [
    {
     "data": {
      "text/plain": [
       "array([0, 0, 0, ..., 0, 0, 0], dtype=int64)"
      ]
     },
     "execution_count": 478,
     "metadata": {},
     "output_type": "execute_result"
    }
   ],
   "source": []
  },
  {
   "cell_type": "code",
   "execution_count": 445,
   "id": "a25ede9f-6120-473a-b7dc-ee13d992c7ba",
   "metadata": {},
   "outputs": [],
   "source": []
  },
  {
   "cell_type": "code",
   "execution_count": 466,
   "id": "d87708d1-0608-4f8a-bfae-19178c8d6a76",
   "metadata": {},
   "outputs": [
    {
     "data": {
      "text/plain": [
       "array([0, 0, 0, ..., 0, 0, 0], dtype=int64)"
      ]
     },
     "execution_count": 466,
     "metadata": {},
     "output_type": "execute_result"
    }
   ],
   "source": [
    "y_valid.values"
   ]
  },
  {
   "cell_type": "code",
   "execution_count": 467,
   "id": "a581450a-3eb0-4840-b314-e9b9c45b47d9",
   "metadata": {},
   "outputs": [
    {
     "data": {
      "text/plain": [
       "array([0, 0, 0, ..., 0, 0, 0])"
      ]
     },
     "execution_count": 467,
     "metadata": {},
     "output_type": "execute_result"
    }
   ],
   "source": [
    "np.zeros(200100).astype(int)"
   ]
  },
  {
   "cell_type": "code",
   "execution_count": 471,
   "id": "272cd032-8910-4da2-9df9-f390311bfa9f",
   "metadata": {},
   "outputs": [
    {
     "data": {
      "text/plain": [
       "<function sklearn.metrics._classification.log_loss(y_true, y_pred, *, eps=1e-15, normalize=True, sample_weight=None, labels=None)>"
      ]
     },
     "execution_count": 471,
     "metadata": {},
     "output_type": "execute_result"
    }
   ],
   "source": [
    "log_loss"
   ]
  },
  {
   "cell_type": "code",
   "execution_count": null,
   "id": "bf1392b9-6b8a-498c-9b60-e512dbfd43a0",
   "metadata": {},
   "outputs": [],
   "source": []
  }
 ],
 "metadata": {
  "kernelspec": {
   "display_name": "Python 3 (ipykernel)",
   "language": "python",
   "name": "python3"
  },
  "language_info": {
   "codemirror_mode": {
    "name": "ipython",
    "version": 3
   },
   "file_extension": ".py",
   "mimetype": "text/x-python",
   "name": "python",
   "nbconvert_exporter": "python",
   "pygments_lexer": "ipython3",
   "version": "3.8.5"
  }
 },
 "nbformat": 4,
 "nbformat_minor": 5
}
